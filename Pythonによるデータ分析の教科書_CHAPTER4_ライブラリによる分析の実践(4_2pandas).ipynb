{
  "nbformat": 4,
  "nbformat_minor": 0,
  "metadata": {
    "colab": {
      "name": "Pythonによるデータ分析の教科書_CHAPTER4_ライブラリによる分析の実践(4.2pandas).ipynb",
      "provenance": [],
      "authorship_tag": "ABX9TyPL29JpNU2l8XdX23b3B6L6",
      "include_colab_link": true
    },
    "kernelspec": {
      "name": "python3",
      "display_name": "Python 3"
    },
    "language_info": {
      "name": "python"
    }
  },
  "cells": [
    {
      "cell_type": "markdown",
      "metadata": {
        "id": "view-in-github",
        "colab_type": "text"
      },
      "source": [
        "<a href=\"https://colab.research.google.com/github/cax68080/google_colab/blob/main/Python%E3%81%AB%E3%82%88%E3%82%8B%E3%83%87%E3%83%BC%E3%82%BF%E5%88%86%E6%9E%90%E3%81%AE%E6%95%99%E7%A7%91%E6%9B%B8_CHAPTER4_%E3%83%A9%E3%82%A4%E3%83%96%E3%83%A9%E3%83%AA%E3%81%AB%E3%82%88%E3%82%8B%E5%88%86%E6%9E%90%E3%81%AE%E5%AE%9F%E8%B7%B5(4_2pandas).ipynb\" target=\"_parent\"><img src=\"https://colab.research.google.com/assets/colab-badge.svg\" alt=\"Open In Colab\"/></a>"
      ]
    },
    {
      "cell_type": "markdown",
      "source": [
        "## 4.2.1 pandasの概要"
      ],
      "metadata": {
        "id": "M_oHD_XUwQbO"
      }
    },
    {
      "cell_type": "markdown",
      "source": [
        "- pandasとは"
      ],
      "metadata": {
        "id": "1os0n1Kewatl"
      }
    },
    {
      "cell_type": "code",
      "execution_count": 1,
      "metadata": {
        "id": "Lslxw1XKv0QE"
      },
      "outputs": [],
      "source": [
        "import pandas as pd"
      ]
    },
    {
      "cell_type": "markdown",
      "source": [
        "- Seriesとは"
      ],
      "metadata": {
        "id": "QhuMK96Bxn8p"
      }
    },
    {
      "cell_type": "code",
      "source": [
        "ser = pd.Series([10,20,30,40])\n",
        "print(ser)"
      ],
      "metadata": {
        "colab": {
          "base_uri": "https://localhost:8080/"
        },
        "id": "zw3VrLMYxnXR",
        "outputId": "eb10f8d6-09ef-44c3-eb72-8313e32771e3"
      },
      "execution_count": 2,
      "outputs": [
        {
          "output_type": "stream",
          "name": "stdout",
          "text": [
            "0    10\n",
            "1    20\n",
            "2    30\n",
            "3    40\n",
            "dtype: int64\n"
          ]
        }
      ]
    },
    {
      "cell_type": "markdown",
      "source": [
        "- DataFrameとは"
      ],
      "metadata": {
        "id": "mhXvPOsmx9bZ"
      }
    },
    {
      "cell_type": "code",
      "source": [
        "df = pd.DataFrame([[10,\"a\",True],[20,\"b\",False],[30,\"c\",False],[40,\"d\",True]])\n",
        "print(df)"
      ],
      "metadata": {
        "colab": {
          "base_uri": "https://localhost:8080/"
        },
        "id": "nGBCz-0CwP7-",
        "outputId": "9e10e2c6-1aad-48ae-bf27-28729d088d6e"
      },
      "execution_count": 4,
      "outputs": [
        {
          "output_type": "stream",
          "name": "stdout",
          "text": [
            "    0  1      2\n",
            "0  10  a   True\n",
            "1  20  b  False\n",
            "2  30  c  False\n",
            "3  40  d   True\n"
          ]
        }
      ]
    },
    {
      "cell_type": "markdown",
      "source": [
        "- DataFrameの概要を見る"
      ],
      "metadata": {
        "id": "wUrWrZnvylC8"
      }
    },
    {
      "cell_type": "code",
      "source": [
        "import numpy as np\n",
        "df = pd.DataFrame(np.arange(100).reshape((25,4)))\n",
        "df"
      ],
      "metadata": {
        "id": "we5pY5kVyjfc"
      },
      "execution_count": null,
      "outputs": []
    },
    {
      "cell_type": "code",
      "source": [
        "df.head()"
      ],
      "metadata": {
        "id": "4Z2r7GcYzHjH"
      },
      "execution_count": null,
      "outputs": []
    }
  ]
}