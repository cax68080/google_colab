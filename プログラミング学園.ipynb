{
  "nbformat": 4,
  "nbformat_minor": 0,
  "metadata": {
    "colab": {
      "provenance": [],
      "authorship_tag": "ABX9TyNGu5qWx/a8RTunV4/Q8tkF",
      "include_colab_link": true
    },
    "kernelspec": {
      "name": "python3",
      "display_name": "Python 3"
    },
    "language_info": {
      "name": "python"
    }
  },
  "cells": [
    {
      "cell_type": "markdown",
      "metadata": {
        "id": "view-in-github",
        "colab_type": "text"
      },
      "source": [
        "<a href=\"https://colab.research.google.com/github/cax68080/google_colab/blob/main/%E3%83%97%E3%83%AD%E3%82%B0%E3%83%A9%E3%83%9F%E3%83%B3%E3%82%B0%E5%AD%A6%E5%9C%92.ipynb\" target=\"_parent\"><img src=\"https://colab.research.google.com/assets/colab-badge.svg\" alt=\"Open In Colab\"/></a>"
      ]
    },
    {
      "cell_type": "code",
      "execution_count": null,
      "metadata": {
        "colab": {
          "base_uri": "https://localhost:8080/"
        },
        "id": "r1uX68LyREOP",
        "outputId": "a7fa5a4e-26dc-44d9-f271-2657b22d7186"
      },
      "outputs": [
        {
          "output_type": "stream",
          "name": "stdout",
          "text": [
            "Mounted at /content/drive\n"
          ]
        }
      ],
      "source": [
        "from google.colab import drive\n",
        "drive.mount('/content/drive')"
      ]
    },
    {
      "cell_type": "markdown",
      "source": [
        "###地図表示のユーザインタフェースを作る"
      ],
      "metadata": {
        "id": "hKreYktrj019"
      }
    },
    {
      "cell_type": "code",
      "source": [
        "DateUI = \"2023-05-28\" #@param{type:\"date\"}\n",
        "CheckboxUI = True #@param{type:\"boolean\"}\n",
        "SliderUI = 5  #@param{type:\"slider\",min:1,max:5,step:1}\n",
        "FormIntUI = 0 #@param{type:\"integer\"}\n",
        "FormNumUI = 1.1 #@param{type:\"number\"}\n",
        "FormStringUI = \"文字列のサンプル\" #@param{type:\"string\"}\n",
        "FormStringDropDownUI = \"入力値1\"  #@param[\"入力値1\",\"入力値2\",\"入力値3\"]{type:\"string\"}\n"
      ],
      "metadata": {
        "id": "k5j5rnREj-w2"
      },
      "execution_count": null,
      "outputs": []
    },
    {
      "cell_type": "markdown",
      "source": [
        "### ColabのUIで地図を操作する"
      ],
      "metadata": {
        "id": "v7HR1rkZsCqt"
      }
    },
    {
      "cell_type": "code",
      "source": [
        "!pip install folium"
      ],
      "metadata": {
        "colab": {
          "base_uri": "https://localhost:8080/"
        },
        "id": "wmJQrIdhr1Ox",
        "outputId": "d657682f-c1f2-4e25-d29b-daa0df6969a5"
      },
      "execution_count": null,
      "outputs": [
        {
          "output_type": "stream",
          "name": "stdout",
          "text": [
            "Looking in indexes: https://pypi.org/simple, https://us-python.pkg.dev/colab-wheels/public/simple/\n",
            "Requirement already satisfied: folium in /usr/local/lib/python3.10/dist-packages (0.14.0)\n",
            "Requirement already satisfied: branca>=0.6.0 in /usr/local/lib/python3.10/dist-packages (from folium) (0.6.0)\n",
            "Requirement already satisfied: jinja2>=2.9 in /usr/local/lib/python3.10/dist-packages (from folium) (3.1.2)\n",
            "Requirement already satisfied: numpy in /usr/local/lib/python3.10/dist-packages (from folium) (1.22.4)\n",
            "Requirement already satisfied: requests in /usr/local/lib/python3.10/dist-packages (from folium) (2.27.1)\n",
            "Requirement already satisfied: MarkupSafe>=2.0 in /usr/local/lib/python3.10/dist-packages (from jinja2>=2.9->folium) (2.1.2)\n",
            "Requirement already satisfied: urllib3<1.27,>=1.21.1 in /usr/local/lib/python3.10/dist-packages (from requests->folium) (1.26.15)\n",
            "Requirement already satisfied: certifi>=2017.4.17 in /usr/local/lib/python3.10/dist-packages (from requests->folium) (2022.12.7)\n",
            "Requirement already satisfied: charset-normalizer~=2.0.0 in /usr/local/lib/python3.10/dist-packages (from requests->folium) (2.0.12)\n",
            "Requirement already satisfied: idna<4,>=2.5 in /usr/local/lib/python3.10/dist-packages (from requests->folium) (3.4)\n"
          ]
        }
      ]
    },
    {
      "cell_type": "code",
      "source": [
        "import folium\n",
        "\n",
        "# 地図の設定\n",
        "CenterLon = 138.9644  #@param{type:\"slider\",min:122,max:154,step:0.0001}\n",
        "CenterLat = 28.3385 #@param{type:\"slider\",min:20,max:46,step:0.0001}\n",
        "ZoomLv = 7  #@param{type:\"slider\",min:3,max:18,step:1}\n",
        "MapType = \"cartodbpositron\" #@param[\"openstreetmap\",\"cartodbpositron\",\"stamenterrain\",\"GSIMap\"]{type:\"string\"}\n",
        "IconType = \"star\"  #@param[\"home\",\"info-sign\",\"plane\",\"star\"]{type:\"string\"}\n",
        "IconColor = \"lightgray\" #@param [\"red\",\"blue\",\"green\",\"purple\",\"orange\",\"darkred\",\"lightred\",\"beige\",\"darkblue\",\"darkgreen\",\"cadetblue\",\"darkpurple\",\"white\",\"pink\",\"lightblue\",\"lightgreen\",\"gray\",\"black\",\"lightgray\"]{type:\"string\"}\n",
        "AddSupportPin = True  #@param{type:\"boolean\"}\n",
        "SupportPinLatLonShift = 0.7528  #@param{type:\"slider\",min:0,max:2,step:0.0001}"
      ],
      "metadata": {
        "id": "4JnytCRtsCVJ"
      },
      "execution_count": 14,
      "outputs": []
    },
    {
      "cell_type": "code",
      "source": [
        "GSIMapTypeURL=\"https://cyberjapandata.gsi.go.jp/xyz/{z}/{x}/{y}.png\"\n",
        "if MapType == \"GSIMap\":\n",
        "  MapType = GSIMapTypeURL\n",
        "  attrName = \"GSIMap\"\n",
        "else:\n",
        "  attrName = MapType\n",
        "\n",
        "map = folium.Map(location=[CenterLat,CenterLon],zoom_start=ZoomLv,title=MapType,attr=attrName)\n",
        "folium.Marker(location=[CenterLat,CenterLon],popup=\"Center\").add_to(map)\n",
        "\n",
        "if AddSupportPin:\n",
        "  folium.Marker(location=[CenterLat+SupportPinLatLonShift,CenterLon],popup=\"Center\").add_to(map)\n",
        "  folium.Marker(location=[CenterLat,CenterLon+SupportPinLatLonShift],popup=\"Center\").add_to(map)\n",
        "  folium.Marker(location=[CenterLat-SupportPinLatLonShift,CenterLon],popup=\"Center\").add_to(map)\n",
        "  folium.Marker(location=[CenterLat,CenterLon-SupportPinLatLonShift],popup=\"Center\").add_to(map)\n",
        "\n",
        "map\n"
      ],
      "metadata": {
        "id": "bsdXKxa7Cyo9",
        "outputId": "6ca8e7a4-cfe3-4b69-9af7-836d8ddeaf42",
        "colab": {
          "base_uri": "https://localhost:8080/",
          "height": 679
        }
      },
      "execution_count": 15,
      "outputs": [
        {
          "output_type": "execute_result",
          "data": {
            "text/plain": [
              "<folium.folium.Map at 0x7f6ebbc251b0>"
            ],
            "text/html": [
              "<div style=\"width:100%;\"><div style=\"position:relative;width:100%;height:0;padding-bottom:60%;\"><span style=\"color:#565656\">Make this Notebook Trusted to load map: File -> Trust Notebook</span><iframe srcdoc=\"&lt;!DOCTYPE html&gt;\n",
              "&lt;html&gt;\n",
              "&lt;head&gt;\n",
              "    \n",
              "    &lt;meta http-equiv=&quot;content-type&quot; content=&quot;text/html; charset=UTF-8&quot; /&gt;\n",
              "    \n",
              "        &lt;script&gt;\n",
              "            L_NO_TOUCH = false;\n",
              "            L_DISABLE_3D = false;\n",
              "        &lt;/script&gt;\n",
              "    \n",
              "    &lt;style&gt;html, body {width: 100%;height: 100%;margin: 0;padding: 0;}&lt;/style&gt;\n",
              "    &lt;style&gt;#map {position:absolute;top:0;bottom:0;right:0;left:0;}&lt;/style&gt;\n",
              "    &lt;script src=&quot;https://cdn.jsdelivr.net/npm/leaflet@1.9.3/dist/leaflet.js&quot;&gt;&lt;/script&gt;\n",
              "    &lt;script src=&quot;https://code.jquery.com/jquery-1.12.4.min.js&quot;&gt;&lt;/script&gt;\n",
              "    &lt;script src=&quot;https://cdn.jsdelivr.net/npm/bootstrap@5.2.2/dist/js/bootstrap.bundle.min.js&quot;&gt;&lt;/script&gt;\n",
              "    &lt;script src=&quot;https://cdnjs.cloudflare.com/ajax/libs/Leaflet.awesome-markers/2.0.2/leaflet.awesome-markers.js&quot;&gt;&lt;/script&gt;\n",
              "    &lt;link rel=&quot;stylesheet&quot; href=&quot;https://cdn.jsdelivr.net/npm/leaflet@1.9.3/dist/leaflet.css&quot;/&gt;\n",
              "    &lt;link rel=&quot;stylesheet&quot; href=&quot;https://cdn.jsdelivr.net/npm/bootstrap@5.2.2/dist/css/bootstrap.min.css&quot;/&gt;\n",
              "    &lt;link rel=&quot;stylesheet&quot; href=&quot;https://netdna.bootstrapcdn.com/bootstrap/3.0.0/css/bootstrap.min.css&quot;/&gt;\n",
              "    &lt;link rel=&quot;stylesheet&quot; href=&quot;https://cdn.jsdelivr.net/npm/@fortawesome/fontawesome-free@6.2.0/css/all.min.css&quot;/&gt;\n",
              "    &lt;link rel=&quot;stylesheet&quot; href=&quot;https://cdnjs.cloudflare.com/ajax/libs/Leaflet.awesome-markers/2.0.2/leaflet.awesome-markers.css&quot;/&gt;\n",
              "    &lt;link rel=&quot;stylesheet&quot; href=&quot;https://cdn.jsdelivr.net/gh/python-visualization/folium/folium/templates/leaflet.awesome.rotate.min.css&quot;/&gt;\n",
              "    \n",
              "            &lt;meta name=&quot;viewport&quot; content=&quot;width=device-width,\n",
              "                initial-scale=1.0, maximum-scale=1.0, user-scalable=no&quot; /&gt;\n",
              "            &lt;style&gt;\n",
              "                #map_bfbb5ca25b51fac224d753d60c4da281 {\n",
              "                    position: relative;\n",
              "                    width: 100.0%;\n",
              "                    height: 100.0%;\n",
              "                    left: 0.0%;\n",
              "                    top: 0.0%;\n",
              "                }\n",
              "                .leaflet-container { font-size: 1rem; }\n",
              "            &lt;/style&gt;\n",
              "        \n",
              "&lt;/head&gt;\n",
              "&lt;body&gt;\n",
              "    \n",
              "    \n",
              "            &lt;div class=&quot;folium-map&quot; id=&quot;map_bfbb5ca25b51fac224d753d60c4da281&quot; &gt;&lt;/div&gt;\n",
              "        \n",
              "&lt;/body&gt;\n",
              "&lt;script&gt;\n",
              "    \n",
              "    \n",
              "            var map_bfbb5ca25b51fac224d753d60c4da281 = L.map(\n",
              "                &quot;map_bfbb5ca25b51fac224d753d60c4da281&quot;,\n",
              "                {\n",
              "                    center: [28.3385, 138.9644],\n",
              "                    crs: L.CRS.EPSG3857,\n",
              "                    zoom: 7,\n",
              "                    zoomControl: true,\n",
              "                    preferCanvas: false,\n",
              "                    title: &quot;cartodbpositron&quot;,\n",
              "                }\n",
              "            );\n",
              "\n",
              "            \n",
              "\n",
              "        \n",
              "    \n",
              "            var tile_layer_8c30fe4f92e7175110ea098dc508b827 = L.tileLayer(\n",
              "                &quot;https://{s}.tile.openstreetmap.org/{z}/{x}/{y}.png&quot;,\n",
              "                {&quot;attribution&quot;: &quot;Data by \\u0026copy; \\u003ca target=\\&quot;_blank\\&quot; href=\\&quot;http://openstreetmap.org\\&quot;\\u003eOpenStreetMap\\u003c/a\\u003e, under \\u003ca target=\\&quot;_blank\\&quot; href=\\&quot;http://www.openstreetmap.org/copyright\\&quot;\\u003eODbL\\u003c/a\\u003e.&quot;, &quot;detectRetina&quot;: false, &quot;maxNativeZoom&quot;: 18, &quot;maxZoom&quot;: 18, &quot;minZoom&quot;: 0, &quot;noWrap&quot;: false, &quot;opacity&quot;: 1, &quot;subdomains&quot;: &quot;abc&quot;, &quot;tms&quot;: false}\n",
              "            ).addTo(map_bfbb5ca25b51fac224d753d60c4da281);\n",
              "        \n",
              "    \n",
              "            var marker_c5b6a8ef34e52ef9d9dbc7822d3ffee1 = L.marker(\n",
              "                [28.3385, 138.9644],\n",
              "                {}\n",
              "            ).addTo(map_bfbb5ca25b51fac224d753d60c4da281);\n",
              "        \n",
              "    \n",
              "        var popup_5ef2cb40dc2e580aaedb09652d3f78d1 = L.popup({&quot;maxWidth&quot;: &quot;100%&quot;});\n",
              "\n",
              "        \n",
              "            \n",
              "                var html_bcdb5386db002f6fd85a8eb97b64ee0a = $(`&lt;div id=&quot;html_bcdb5386db002f6fd85a8eb97b64ee0a&quot; style=&quot;width: 100.0%; height: 100.0%;&quot;&gt;Center&lt;/div&gt;`)[0];\n",
              "                popup_5ef2cb40dc2e580aaedb09652d3f78d1.setContent(html_bcdb5386db002f6fd85a8eb97b64ee0a);\n",
              "            \n",
              "        \n",
              "\n",
              "        marker_c5b6a8ef34e52ef9d9dbc7822d3ffee1.bindPopup(popup_5ef2cb40dc2e580aaedb09652d3f78d1)\n",
              "        ;\n",
              "\n",
              "        \n",
              "    \n",
              "    \n",
              "            var marker_89dc9a8ea8bb21e4e71a3e8b0108570b = L.marker(\n",
              "                [29.0913, 138.9644],\n",
              "                {}\n",
              "            ).addTo(map_bfbb5ca25b51fac224d753d60c4da281);\n",
              "        \n",
              "    \n",
              "        var popup_54123dd15c48cabbde30e46fc98ccab4 = L.popup({&quot;maxWidth&quot;: &quot;100%&quot;});\n",
              "\n",
              "        \n",
              "            \n",
              "                var html_df2bf0d70f8ca4df06c8eb6a4737413c = $(`&lt;div id=&quot;html_df2bf0d70f8ca4df06c8eb6a4737413c&quot; style=&quot;width: 100.0%; height: 100.0%;&quot;&gt;Center&lt;/div&gt;`)[0];\n",
              "                popup_54123dd15c48cabbde30e46fc98ccab4.setContent(html_df2bf0d70f8ca4df06c8eb6a4737413c);\n",
              "            \n",
              "        \n",
              "\n",
              "        marker_89dc9a8ea8bb21e4e71a3e8b0108570b.bindPopup(popup_54123dd15c48cabbde30e46fc98ccab4)\n",
              "        ;\n",
              "\n",
              "        \n",
              "    \n",
              "    \n",
              "            var marker_a50a86470cd01c117ade2e97a60058d3 = L.marker(\n",
              "                [28.3385, 139.71720000000002],\n",
              "                {}\n",
              "            ).addTo(map_bfbb5ca25b51fac224d753d60c4da281);\n",
              "        \n",
              "    \n",
              "        var popup_bca6e0cfcfc437115bde0b9cbd2c6123 = L.popup({&quot;maxWidth&quot;: &quot;100%&quot;});\n",
              "\n",
              "        \n",
              "            \n",
              "                var html_29cb538b2a400d9aa3480ad73b2d84e5 = $(`&lt;div id=&quot;html_29cb538b2a400d9aa3480ad73b2d84e5&quot; style=&quot;width: 100.0%; height: 100.0%;&quot;&gt;Center&lt;/div&gt;`)[0];\n",
              "                popup_bca6e0cfcfc437115bde0b9cbd2c6123.setContent(html_29cb538b2a400d9aa3480ad73b2d84e5);\n",
              "            \n",
              "        \n",
              "\n",
              "        marker_a50a86470cd01c117ade2e97a60058d3.bindPopup(popup_bca6e0cfcfc437115bde0b9cbd2c6123)\n",
              "        ;\n",
              "\n",
              "        \n",
              "    \n",
              "    \n",
              "            var marker_f52a860437d1ea4fdfeac35190c005ac = L.marker(\n",
              "                [27.5857, 138.9644],\n",
              "                {}\n",
              "            ).addTo(map_bfbb5ca25b51fac224d753d60c4da281);\n",
              "        \n",
              "    \n",
              "        var popup_a043e71d61153b5b3e310e1beb34bfa6 = L.popup({&quot;maxWidth&quot;: &quot;100%&quot;});\n",
              "\n",
              "        \n",
              "            \n",
              "                var html_9e378ebecfe70f0bdc2584d241df86bf = $(`&lt;div id=&quot;html_9e378ebecfe70f0bdc2584d241df86bf&quot; style=&quot;width: 100.0%; height: 100.0%;&quot;&gt;Center&lt;/div&gt;`)[0];\n",
              "                popup_a043e71d61153b5b3e310e1beb34bfa6.setContent(html_9e378ebecfe70f0bdc2584d241df86bf);\n",
              "            \n",
              "        \n",
              "\n",
              "        marker_f52a860437d1ea4fdfeac35190c005ac.bindPopup(popup_a043e71d61153b5b3e310e1beb34bfa6)\n",
              "        ;\n",
              "\n",
              "        \n",
              "    \n",
              "    \n",
              "            var marker_d9232c4adb644be30ee871a5dede030d = L.marker(\n",
              "                [28.3385, 138.2116],\n",
              "                {}\n",
              "            ).addTo(map_bfbb5ca25b51fac224d753d60c4da281);\n",
              "        \n",
              "    \n",
              "        var popup_bae8c50c9608d667f333b4b623ca8171 = L.popup({&quot;maxWidth&quot;: &quot;100%&quot;});\n",
              "\n",
              "        \n",
              "            \n",
              "                var html_a241faa72d1d0b3bf6504f3837fef71f = $(`&lt;div id=&quot;html_a241faa72d1d0b3bf6504f3837fef71f&quot; style=&quot;width: 100.0%; height: 100.0%;&quot;&gt;Center&lt;/div&gt;`)[0];\n",
              "                popup_bae8c50c9608d667f333b4b623ca8171.setContent(html_a241faa72d1d0b3bf6504f3837fef71f);\n",
              "            \n",
              "        \n",
              "\n",
              "        marker_d9232c4adb644be30ee871a5dede030d.bindPopup(popup_bae8c50c9608d667f333b4b623ca8171)\n",
              "        ;\n",
              "\n",
              "        \n",
              "    \n",
              "&lt;/script&gt;\n",
              "&lt;/html&gt;\" style=\"position:absolute;width:100%;height:100%;left:0;top:0;border:none !important;\" allowfullscreen webkitallowfullscreen mozallowfullscreen></iframe></div></div>"
            ]
          },
          "metadata": {},
          "execution_count": 15
        }
      ]
    }
  ]
}