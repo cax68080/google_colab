{
  "nbformat": 4,
  "nbformat_minor": 0,
  "metadata": {
    "colab": {
      "provenance": [],
      "authorship_tag": "ABX9TyMU20foElw5Lw+BqM6iV7dl",
      "include_colab_link": true
    },
    "kernelspec": {
      "name": "python3",
      "display_name": "Python 3"
    },
    "language_info": {
      "name": "python"
    }
  },
  "cells": [
    {
      "cell_type": "markdown",
      "metadata": {
        "id": "view-in-github",
        "colab_type": "text"
      },
      "source": [
        "<a href=\"https://colab.research.google.com/github/cax68080/google_colab/blob/main/PyTorch%E3%81%AB%E3%82%88%E3%82%8B%E7%94%BB%E5%83%8F%E8%AA%8D%E8%AD%98_ipynb_%E3%81%AE%E3%82%B3%E3%83%94%E3%83%BC.ipynb\" target=\"_parent\"><img src=\"https://colab.research.google.com/assets/colab-badge.svg\" alt=\"Open In Colab\"/></a>"
      ]
    },
    {
      "cell_type": "code",
      "execution_count": null,
      "metadata": {
        "id": "1On2EeqXJP1r"
      },
      "outputs": [],
      "source": [
        "import matplotlib.pyplot as plt\n",
        "import torchvision.transforms as transforms\n",
        "from torch.utils.data import DataLoader\n",
        "from torchvision.datasets import MNIST"
      ]
    },
    {
      "cell_type": "code",
      "source": [
        "!if [ ! -d ~/data ]; then mkdir ~/data; fi\n",
        "!ls -d ~/data"
      ],
      "metadata": {
        "colab": {
          "base_uri": "https://localhost:8080/"
        },
        "id": "gIX7rF6tLsf2",
        "outputId": "5553ca5e-2ec6-4517-fd89-b73f0d51c88c"
      },
      "execution_count": null,
      "outputs": [
        {
          "output_type": "stream",
          "name": "stdout",
          "text": [
            "/root/data\n"
          ]
        }
      ]
    },
    {
      "cell_type": "code",
      "source": [
        "data_folder = \"~/data\"\n",
        "BATCH_SIZE = 8\n",
        "mnist_data = MNIST(data_folder,train=True,download=True,transform=transforms.ToTensor())\n",
        "data_loader = DataLoader(mnist_data,batch_size=BATCH_SIZE,shuffle=False)"
      ],
      "metadata": {
        "id": "rkNrcZ9RMf5F"
      },
      "execution_count": null,
      "outputs": []
    }
  ]
}