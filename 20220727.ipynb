{
  "nbformat": 4,
  "nbformat_minor": 0,
  "metadata": {
    "colab": {
      "name": "20220727.ipynb",
      "provenance": [],
      "authorship_tag": "ABX9TyO5GxgbKeDNKT8ZOnnAUmps",
      "include_colab_link": true
    },
    "kernelspec": {
      "name": "python3",
      "display_name": "Python 3"
    },
    "language_info": {
      "name": "python"
    }
  },
  "cells": [
    {
      "cell_type": "markdown",
      "metadata": {
        "id": "view-in-github",
        "colab_type": "text"
      },
      "source": [
        "<a href=\"https://colab.research.google.com/github/cax68080/google_colab/blob/main/20220727.ipynb\" target=\"_parent\"><img src=\"https://colab.research.google.com/assets/colab-badge.svg\" alt=\"Open In Colab\"/></a>"
      ]
    },
    {
      "cell_type": "markdown",
      "source": [
        "## そのオブジェクト、実体は？"
      ],
      "metadata": {
        "id": "4XW2XEzJJbYv"
      }
    },
    {
      "cell_type": "code",
      "execution_count": 6,
      "metadata": {
        "colab": {
          "base_uri": "https://localhost:8080/"
        },
        "id": "cUkRe6YU_Ckw",
        "outputId": "b1ab03ac-d609-41fe-bdc9-efb8af48038a"
      },
      "outputs": [
        {
          "output_type": "stream",
          "name": "stdout",
          "text": [
            "a == b : True\n",
            "a is b : True\n",
            "c == d : True\n",
            "c is d : False\n"
          ]
        }
      ],
      "source": [
        "a = 256\n",
        "b = 256\n",
        "c = 257\n",
        "d = 257\n",
        "print(\"a == b :\", a == b)\n",
        "print(\"a is b :\",a is b)\n",
        "print(\"c == d :\",c == d)\n",
        "print(\"c is d :\",c is d)"
      ]
    },
    {
      "cell_type": "code",
      "source": [
        "print(id(a))\n",
        "print(id(b))\n",
        "print(id(c))\n",
        "print(id(d))"
      ],
      "metadata": {
        "colab": {
          "base_uri": "https://localhost:8080/"
        },
        "id": "rGwt8-GFFnvs",
        "outputId": "d5f8a47e-74de-40f1-c0a7-9f0c48c50d65"
      },
      "execution_count": 8,
      "outputs": [
        {
          "output_type": "stream",
          "name": "stdout",
          "text": [
            "11264224\n",
            "11264224\n",
            "140381747951792\n",
            "140381747951152\n"
          ]
        }
      ]
    },
    {
      "cell_type": "code",
      "source": [
        "e,f = 257,257\n",
        "print(id(e))\n",
        "print(id(f))"
      ],
      "metadata": {
        "colab": {
          "base_uri": "https://localhost:8080/"
        },
        "id": "M3w_YYQnGT3X",
        "outputId": "3ad244a4-c94d-40ac-cf78-bf60d9dec3af"
      },
      "execution_count": 11,
      "outputs": [
        {
          "output_type": "stream",
          "name": "stdout",
          "text": [
            "140381747951344\n",
            "140381747953616\n"
          ]
        }
      ]
    },
    {
      "cell_type": "code",
      "source": [
        "g = 257;h = 257\n",
        "print(g is h)\n",
        "print(id(g))\n",
        "print(id(h))"
      ],
      "metadata": {
        "colab": {
          "base_uri": "https://localhost:8080/"
        },
        "id": "cr0YO9LIGurZ",
        "outputId": "62b05f64-1d2d-487d-d3f9-8423f9c55ced"
      },
      "execution_count": 13,
      "outputs": [
        {
          "output_type": "stream",
          "name": "stdout",
          "text": [
            "False\n",
            "140381746902256\n",
            "140381746902448\n"
          ]
        }
      ]
    },
    {
      "cell_type": "markdown",
      "source": [
        "## 同じ処理？違う処理？"
      ],
      "metadata": {
        "id": "rO-V8VcTJof3"
      }
    },
    {
      "cell_type": "code",
      "source": [
        "a = ['apple','banana']\n",
        "b = a\n",
        "print(id(a))\n",
        "print(id(b))\n",
        "a = a + ['peach','grape']\n",
        "print(a)\n",
        "print(b)\n",
        "print(id(a))\n",
        "print(id(b))"
      ],
      "metadata": {
        "colab": {
          "base_uri": "https://localhost:8080/"
        },
        "id": "xxX16vTTIjPx",
        "outputId": "7b46ffb5-b090-4290-ddc7-ac6b642c5c9c"
      },
      "execution_count": 18,
      "outputs": [
        {
          "output_type": "stream",
          "name": "stdout",
          "text": [
            "140381746897856\n",
            "140381746897856\n",
            "['apple', 'banana', 'peach', 'grape']\n",
            "['apple', 'banana']\n",
            "140381746470416\n",
            "140381746897856\n"
          ]
        }
      ]
    },
    {
      "cell_type": "code",
      "source": [
        "a = ['apple','banana']\n",
        "b = a\n",
        "print(id(a))\n",
        "print(id(b))\n",
        "a += ['peach','grape']\n",
        "print(a)\n",
        "print(b)\n",
        "print(id(a))\n",
        "print(id(b))"
      ],
      "metadata": {
        "colab": {
          "base_uri": "https://localhost:8080/"
        },
        "id": "aaOOzSEpMLyT",
        "outputId": "33d15832-4151-428a-bbd4-dec102d561a8"
      },
      "execution_count": 19,
      "outputs": [
        {
          "output_type": "stream",
          "name": "stdout",
          "text": [
            "140381746986112\n",
            "140381746986112\n",
            "['apple', 'banana', 'peach', 'grape']\n",
            "['apple', 'banana', 'peach', 'grape']\n",
            "140381746986112\n",
            "140381746986112\n"
          ]
        }
      ]
    },
    {
      "cell_type": "code",
      "source": [
        "a = ['apple','banana']\n",
        "b = a\n",
        "a.append('peach')\n",
        "a.append('grape')\n",
        "print(a)\n",
        "print(b)"
      ],
      "metadata": {
        "colab": {
          "base_uri": "https://localhost:8080/"
        },
        "id": "AozmN7SnM54f",
        "outputId": "302b310d-1fdf-4413-8e70-7617ca656146"
      },
      "execution_count": 23,
      "outputs": [
        {
          "output_type": "stream",
          "name": "stdout",
          "text": [
            "['apple', 'banana', 'peach', 'grape']\n",
            "['apple', 'banana', 'peach', 'grape']\n"
          ]
        }
      ]
    },
    {
      "cell_type": "markdown",
      "source": [
        "## 変更できないタプルを変更？"
      ],
      "metadata": {
        "id": "PFV6Kmb3Noeb"
      }
    },
    {
      "cell_type": "code",
      "source": [
        "v = ('tomato','cabbage','potato')\n",
        "print(v[2])\n",
        "v[2] = 'carrot'"
      ],
      "metadata": {
        "colab": {
          "base_uri": "https://localhost:8080/",
          "height": 226
        },
        "id": "VGNVlVGsNuFu",
        "outputId": "9f7da54b-68bd-49d8-f186-67910a9c6e06"
      },
      "execution_count": 25,
      "outputs": [
        {
          "output_type": "stream",
          "name": "stdout",
          "text": [
            "potato\n"
          ]
        },
        {
          "output_type": "error",
          "ename": "TypeError",
          "evalue": "ignored",
          "traceback": [
            "\u001b[0;31m---------------------------------------------------------------------------\u001b[0m",
            "\u001b[0;31mTypeError\u001b[0m                                 Traceback (most recent call last)",
            "\u001b[0;32m<ipython-input-25-7a81bd19f803>\u001b[0m in \u001b[0;36m<module>\u001b[0;34m()\u001b[0m\n\u001b[1;32m      1\u001b[0m \u001b[0mv\u001b[0m \u001b[0;34m=\u001b[0m \u001b[0;34m(\u001b[0m\u001b[0;34m'tomato'\u001b[0m\u001b[0;34m,\u001b[0m\u001b[0;34m'cabbage'\u001b[0m\u001b[0;34m,\u001b[0m\u001b[0;34m'potato'\u001b[0m\u001b[0;34m)\u001b[0m\u001b[0;34m\u001b[0m\u001b[0;34m\u001b[0m\u001b[0m\n\u001b[1;32m      2\u001b[0m \u001b[0mprint\u001b[0m\u001b[0;34m(\u001b[0m\u001b[0mv\u001b[0m\u001b[0;34m[\u001b[0m\u001b[0;36m2\u001b[0m\u001b[0;34m]\u001b[0m\u001b[0;34m)\u001b[0m\u001b[0;34m\u001b[0m\u001b[0;34m\u001b[0m\u001b[0m\n\u001b[0;32m----> 3\u001b[0;31m \u001b[0mv\u001b[0m\u001b[0;34m[\u001b[0m\u001b[0;36m2\u001b[0m\u001b[0;34m]\u001b[0m \u001b[0;34m=\u001b[0m \u001b[0;34m'carrot'\u001b[0m\u001b[0;34m\u001b[0m\u001b[0;34m\u001b[0m\u001b[0m\n\u001b[0m",
            "\u001b[0;31mTypeError\u001b[0m: 'tuple' object does not support item assignment"
          ]
        }
      ]
    },
    {
      "cell_type": "code",
      "source": [
        "fruits = (['apple'],['orange'],['grape'])\n",
        "print(fruits[2])\n",
        "print(fruits[2][0])\n",
        "print(type(fruits))\n",
        "print(type(fruits[2]))\n",
        "print(type(fruits[2][0]))\n",
        "fruits[2][0] = 'lemon'\n",
        "print(fruits)\n",
        "#fruits[0] += ['banana'] \n",
        "fruits[0].append('banana') \n",
        "print(fruits)"
      ],
      "metadata": {
        "colab": {
          "base_uri": "https://localhost:8080/"
        },
        "id": "U0nwpmVkOigY",
        "outputId": "ec2ce3ca-6f59-4075-eff3-6b5c44cbb5b0"
      },
      "execution_count": 37,
      "outputs": [
        {
          "output_type": "stream",
          "name": "stdout",
          "text": [
            "['grape']\n",
            "grape\n",
            "<class 'tuple'>\n",
            "<class 'list'>\n",
            "<class 'str'>\n",
            "(['apple'], ['orange'], ['lemon'])\n",
            "(['apple', 'banana'], ['orange'], ['lemon'])\n"
          ]
        }
      ]
    },
    {
      "cell_type": "markdown",
      "source": [
        "## リストを参照するリスト"
      ],
      "metadata": {
        "id": "x4lqwbyDRkq_"
      }
    },
    {
      "cell_type": "code",
      "source": [
        "row = [''] * 3\n",
        "print(row)\n",
        "board = [row] * 3\n",
        "print(board)\n",
        "board[0][0] = 'o'\n",
        "print(board)"
      ],
      "metadata": {
        "colab": {
          "base_uri": "https://localhost:8080/"
        },
        "id": "zz3VYHriRjxJ",
        "outputId": "7fbe22e1-686c-40fb-bad1-c5af44aafd71"
      },
      "execution_count": 42,
      "outputs": [
        {
          "output_type": "stream",
          "name": "stdout",
          "text": [
            "['', '', '']\n",
            "[['', '', ''], ['', '', ''], ['', '', '']]\n",
            "[['o', '', ''], ['o', '', ''], ['o', '', '']]\n"
          ]
        }
      ]
    },
    {
      "cell_type": "code",
      "source": [
        "row = [''] * 3\n",
        "print(row)\n",
        "board = [row,row[:],row[:]]\n",
        "print(board)\n",
        "board[0][1] = 'o'\n",
        "print(board)"
      ],
      "metadata": {
        "colab": {
          "base_uri": "https://localhost:8080/"
        },
        "id": "cAghV3ZaS3Q_",
        "outputId": "e4c0c7c9-fd74-4f0b-9a68-133be6f99163"
      },
      "execution_count": 46,
      "outputs": [
        {
          "output_type": "stream",
          "name": "stdout",
          "text": [
            "['', '', '']\n",
            "[['', '', ''], ['', '', ''], ['', '', '']]\n",
            "[['', 'o', ''], ['', '', ''], ['', '', '']]\n"
          ]
        }
      ]
    },
    {
      "cell_type": "markdown",
      "source": [
        "## デフォルト引数の怪\n"
      ],
      "metadata": {
        "id": "Jbmq4aDIZt96"
      }
    },
    {
      "cell_type": "code",
      "source": [
        "def add_to_list(x,array=[]):\n",
        "  array.append(x)\n",
        "  return array\n",
        "print(add_to_list.__defaults__)\n",
        "a = add_to_list('ABC')\n",
        "print(a)\n",
        "print(add_to_list.__defaults__)\n",
        "b = add_to_list('123')\n",
        "print(b)"
      ],
      "metadata": {
        "colab": {
          "base_uri": "https://localhost:8080/"
        },
        "id": "wg6voL5WZ0bA",
        "outputId": "5c475720-4837-428a-d498-ac0e78a5af85"
      },
      "execution_count": 54,
      "outputs": [
        {
          "output_type": "stream",
          "name": "stdout",
          "text": [
            "([],)\n",
            "['ABC']\n",
            "(['ABC'],)\n",
            "['ABC', '123']\n"
          ]
        }
      ]
    },
    {
      "cell_type": "code",
      "source": [
        "def add_to_list_2(x,array=[]):\n",
        "  array = array + [x]\n",
        "  return array\n",
        "a = add_to_list_2('abc')\n",
        "print(a)\n",
        "b = add_to_list_2('123')\n",
        "print(b)"
      ],
      "metadata": {
        "colab": {
          "base_uri": "https://localhost:8080/"
        },
        "id": "7ZSYFaO5g6cK",
        "outputId": "48e2489d-e8dd-450e-decd-55801ed7998c"
      },
      "execution_count": 59,
      "outputs": [
        {
          "output_type": "stream",
          "name": "stdout",
          "text": [
            "['abc']\n",
            "['123']\n"
          ]
        }
      ]
    },
    {
      "cell_type": "markdown",
      "source": [
        "## そんなところにelse節"
      ],
      "metadata": {
        "id": "6yV1pe9KiGvr"
      }
    },
    {
      "cell_type": "code",
      "source": [
        "def find_numbers(x,candidates):\n",
        "  for i in candidates:\n",
        "    if x == i:\n",
        "      print(\"Found!\")\n",
        "      break\n",
        "  else:\n",
        "    print(\"Not Found...\")\n",
        "\n"
      ],
      "metadata": {
        "id": "UWNXw9BjiLy4"
      },
      "execution_count": 70,
      "outputs": []
    },
    {
      "cell_type": "code",
      "source": [
        "find_numbers(1,range(10))\n",
        "find_numbers(15,range(10))\n"
      ],
      "metadata": {
        "colab": {
          "base_uri": "https://localhost:8080/"
        },
        "id": "QA6QnHIllbGT",
        "outputId": "1df091b9-6d6e-44e9-989f-24f2ab6560d1"
      },
      "execution_count": 71,
      "outputs": [
        {
          "output_type": "stream",
          "name": "stdout",
          "text": [
            "Found!\n",
            "Not Found...\n"
          ]
        }
      ]
    },
    {
      "cell_type": "code",
      "source": [
        "try:\n",
        "  pass\n",
        "except:\n",
        "  print(\"something wrong...\")\n",
        "else:\n",
        "  print(\"try block successfully terminated!\")\n",
        "\n"
      ],
      "metadata": {
        "colab": {
          "base_uri": "https://localhost:8080/"
        },
        "id": "tFFikyOdnnt9",
        "outputId": "192da28b-551d-4e7b-ebe8-8964c93e89fc"
      },
      "execution_count": 73,
      "outputs": [
        {
          "output_type": "stream",
          "name": "stdout",
          "text": [
            "try block successfully terminated!\n"
          ]
        }
      ]
    },
    {
      "cell_type": "markdown",
      "source": [
        "## 不思議な挙動"
      ],
      "metadata": {
        "id": "_rfZRjtcqqyx"
      }
    },
    {
      "cell_type": "code",
      "source": [
        "array = ['apple','lemon','orange']\n",
        "g = (x for x in array if array.count(x) > 0)\n",
        "array = ['plum','mango','apple']\n",
        "print(list(g))"
      ],
      "metadata": {
        "colab": {
          "base_uri": "https://localhost:8080/"
        },
        "id": "P3Ya43obquQt",
        "outputId": "a8960a1d-9253-4a95-e63c-fd14e4e6cba3"
      },
      "execution_count": 78,
      "outputs": [
        {
          "output_type": "stream",
          "name": "stdout",
          "text": [
            "['apple']\n"
          ]
        }
      ]
    }
  ]
}