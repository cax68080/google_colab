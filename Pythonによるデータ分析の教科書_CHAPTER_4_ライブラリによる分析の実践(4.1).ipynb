{
  "nbformat": 4,
  "nbformat_minor": 0,
  "metadata": {
    "colab": {
      "name": "Pythonによるデータ分析の教科書 CHAPTER 4 ライブラリによる分析の実践",
      "provenance": [],
      "collapsed_sections": [],
      "authorship_tag": "ABX9TyOvXMXfhAsyJ3gyaRtmq+L7",
      "include_colab_link": true
    },
    "kernelspec": {
      "name": "python3",
      "display_name": "Python 3"
    },
    "language_info": {
      "name": "python"
    }
  },
  "cells": [
    {
      "cell_type": "markdown",
      "metadata": {
        "id": "view-in-github",
        "colab_type": "text"
      },
      "source": [
        "<a href=\"https://colab.research.google.com/github/cax68080/google_colab/blob/main/Python%E3%81%AB%E3%82%88%E3%82%8B%E3%83%87%E3%83%BC%E3%82%BF%E5%88%86%E6%9E%90%E3%81%AE%E6%95%99%E7%A7%91%E6%9B%B8_CHAPTER_4_%E3%83%A9%E3%82%A4%E3%83%96%E3%83%A9%E3%83%AA%E3%81%AB%E3%82%88%E3%82%8B%E5%88%86%E6%9E%90%E3%81%AE%E5%AE%9F%E8%B7%B5(4.1).ipynb\" target=\"_parent\"><img src=\"https://colab.research.google.com/assets/colab-badge.svg\" alt=\"Open In Colab\"/></a>"
      ]
    },
    {
      "cell_type": "code",
      "execution_count": null,
      "metadata": {
        "id": "gMY9toKUAmjK"
      },
      "outputs": [],
      "source": [
        ""
      ]
    },
    {
      "cell_type": "markdown",
      "source": [
        "##4.1 Numpyの基礎"
      ],
      "metadata": {
        "id": "RlIwDahQQMcd"
      }
    },
    {
      "cell_type": "markdown",
      "source": [
        "- 一次元配列"
      ],
      "metadata": {
        "id": "aZEzWXiAFsAP"
      }
    },
    {
      "cell_type": "markdown",
      "source": [
        ""
      ],
      "metadata": {
        "id": "4dnMWngaQLlY"
      }
    },
    {
      "cell_type": "code",
      "source": [
        "import numpy as np"
      ],
      "metadata": {
        "id": "VKUtnCWHBbVD"
      },
      "execution_count": 3,
      "outputs": []
    },
    {
      "cell_type": "code",
      "source": [
        "a = np.array([1,2,3])\n",
        "print(a)\n",
        "print(type(a))\n",
        "print(a.shape)"
      ],
      "metadata": {
        "colab": {
          "base_uri": "https://localhost:8080/"
        },
        "id": "mOfG5FFRBoNf",
        "outputId": "c4474db3-701f-42c3-b939-c1ced6f952d7"
      },
      "execution_count": null,
      "outputs": [
        {
          "output_type": "stream",
          "name": "stdout",
          "text": [
            "[1 2 3]\n",
            "<class 'numpy.ndarray'>\n",
            "(3,)\n"
          ]
        }
      ]
    },
    {
      "cell_type": "markdown",
      "source": [
        "- 2次元配列"
      ],
      "metadata": {
        "id": "x6nQG7kmF2Dv"
      }
    },
    {
      "cell_type": "code",
      "source": [
        "b = np.array([[1,2,3],[4,5,6]])\n",
        "b"
      ],
      "metadata": {
        "colab": {
          "base_uri": "https://localhost:8080/"
        },
        "id": "NgqnWdGFE4ML",
        "outputId": "8e9c5e45-646c-4aee-f03a-985bc9b6161b"
      },
      "execution_count": null,
      "outputs": [
        {
          "output_type": "execute_result",
          "data": {
            "text/plain": [
              "array([[1, 2, 3],\n",
              "       [4, 5, 6]])"
            ]
          },
          "metadata": {},
          "execution_count": 7
        }
      ]
    },
    {
      "cell_type": "code",
      "source": [
        "print(b)\n",
        "print(b.shape)"
      ],
      "metadata": {
        "colab": {
          "base_uri": "https://localhost:8080/"
        },
        "id": "AnJZ0y4zFnF3",
        "outputId": "33eb13f1-239c-4bc7-dfc9-d02624041a71"
      },
      "execution_count": null,
      "outputs": [
        {
          "output_type": "stream",
          "name": "stdout",
          "text": [
            "[[1 2 3]\n",
            " [4 5 6]]\n",
            "(2, 3)\n"
          ]
        }
      ]
    },
    {
      "cell_type": "markdown",
      "source": [
        "- 変形(reshape)"
      ],
      "metadata": {
        "id": "wGmTF1VJGX5a"
      }
    },
    {
      "cell_type": "code",
      "source": [
        "c1 = np.array([0,1,2,3,4,5])\n",
        "c1"
      ],
      "metadata": {
        "colab": {
          "base_uri": "https://localhost:8080/"
        },
        "id": "RSFdAU6jGgQP",
        "outputId": "a51625a6-46b2-4dfd-dc8e-f650f5d12894"
      },
      "execution_count": null,
      "outputs": [
        {
          "output_type": "execute_result",
          "data": {
            "text/plain": [
              "array([0, 1, 2, 3, 4, 5])"
            ]
          },
          "metadata": {},
          "execution_count": 10
        }
      ]
    },
    {
      "cell_type": "code",
      "source": [
        "c2 = c1.reshape((2,3))\n",
        "c2"
      ],
      "metadata": {
        "colab": {
          "base_uri": "https://localhost:8080/"
        },
        "id": "0wKNis8oGrmd",
        "outputId": "b51ba559-9b00-49af-e2a4-6d151aa70c40"
      },
      "execution_count": null,
      "outputs": [
        {
          "output_type": "execute_result",
          "data": {
            "text/plain": [
              "array([[0, 1, 2],\n",
              "       [3, 4, 5]])"
            ]
          },
          "metadata": {},
          "execution_count": 11
        }
      ]
    },
    {
      "cell_type": "code",
      "source": [
        "c3 = c2.ravel()\n",
        "c3"
      ],
      "metadata": {
        "colab": {
          "base_uri": "https://localhost:8080/"
        },
        "id": "KvZmefblG1Tr",
        "outputId": "e2f64c52-bc22-4d4c-ee0b-1f27a696c684"
      },
      "execution_count": null,
      "outputs": [
        {
          "output_type": "execute_result",
          "data": {
            "text/plain": [
              "array([0, 1, 2, 3, 4, 5])"
            ]
          },
          "metadata": {},
          "execution_count": 12
        }
      ]
    },
    {
      "cell_type": "code",
      "source": [
        "c4 = c2.flatten()\n",
        "c4"
      ],
      "metadata": {
        "colab": {
          "base_uri": "https://localhost:8080/"
        },
        "id": "wisTobfRHAY5",
        "outputId": "1c39480d-48cd-42a8-e4a3-73c0bdb610e1"
      },
      "execution_count": null,
      "outputs": [
        {
          "output_type": "execute_result",
          "data": {
            "text/plain": [
              "array([0, 1, 2, 3, 4, 5])"
            ]
          },
          "metadata": {},
          "execution_count": 13
        }
      ]
    },
    {
      "cell_type": "markdown",
      "source": [
        "- データ型(dtype)"
      ],
      "metadata": {
        "id": "u-1TQLZRHMA6"
      }
    },
    {
      "cell_type": "code",
      "source": [
        "print(a.dtype)"
      ],
      "metadata": {
        "colab": {
          "base_uri": "https://localhost:8080/"
        },
        "id": "oKH9EOlAHQTY",
        "outputId": "97bbe2ff-1d84-4155-e6a4-e753ed91a6ff"
      },
      "execution_count": null,
      "outputs": [
        {
          "output_type": "stream",
          "name": "stdout",
          "text": [
            "int64\n"
          ]
        }
      ]
    },
    {
      "cell_type": "code",
      "source": [
        "d = np.array([1,2],dtype=np.int16)\n",
        "d"
      ],
      "metadata": {
        "colab": {
          "base_uri": "https://localhost:8080/"
        },
        "id": "AMIt0nLFR-wx",
        "outputId": "de3bf7f7-ed22-4775-d4ae-bdb08cb6a494"
      },
      "execution_count": null,
      "outputs": [
        {
          "output_type": "execute_result",
          "data": {
            "text/plain": [
              "array([1, 2], dtype=int16)"
            ]
          },
          "metadata": {},
          "execution_count": 16
        }
      ]
    },
    {
      "cell_type": "code",
      "source": [
        "d.dtype"
      ],
      "metadata": {
        "colab": {
          "base_uri": "https://localhost:8080/"
        },
        "id": "ZstN3BEPSLG3",
        "outputId": "b9bc56e4-c1c7-4c42-b7d4-6dae9b084e31"
      },
      "execution_count": null,
      "outputs": [
        {
          "output_type": "execute_result",
          "data": {
            "text/plain": [
              "dtype('int16')"
            ]
          },
          "metadata": {},
          "execution_count": 19
        }
      ]
    },
    {
      "cell_type": "code",
      "source": [
        "d.astype(np.float16)"
      ],
      "metadata": {
        "colab": {
          "base_uri": "https://localhost:8080/"
        },
        "id": "S6a3IgYBSTKQ",
        "outputId": "7f2f07c2-cd78-4ef7-d9b9-9a414504ca2e"
      },
      "execution_count": null,
      "outputs": [
        {
          "output_type": "execute_result",
          "data": {
            "text/plain": [
              "array([1., 2.], dtype=float16)"
            ]
          },
          "metadata": {},
          "execution_count": 20
        }
      ]
    },
    {
      "cell_type": "markdown",
      "source": [
        "- インデックスとスライス"
      ],
      "metadata": {
        "id": "mkalGDPFSe3o"
      }
    },
    {
      "cell_type": "code",
      "source": [
        "print(a)"
      ],
      "metadata": {
        "colab": {
          "base_uri": "https://localhost:8080/"
        },
        "id": "k78LWIR_Si92",
        "outputId": "e40c2681-2c85-4045-dc67-b57bf97cb814"
      },
      "execution_count": null,
      "outputs": [
        {
          "output_type": "stream",
          "name": "stdout",
          "text": [
            "[1 2 3]\n"
          ]
        }
      ]
    },
    {
      "cell_type": "code",
      "source": [
        "print(a[0])"
      ],
      "metadata": {
        "colab": {
          "base_uri": "https://localhost:8080/"
        },
        "id": "QQvp3oRpTUXJ",
        "outputId": "60290f5d-128e-407b-ac20-a009c84453ff"
      },
      "execution_count": null,
      "outputs": [
        {
          "output_type": "stream",
          "name": "stdout",
          "text": [
            "1\n"
          ]
        }
      ]
    },
    {
      "cell_type": "code",
      "source": [
        "print(a[1:])"
      ],
      "metadata": {
        "colab": {
          "base_uri": "https://localhost:8080/"
        },
        "id": "Wwz2ohzITa65",
        "outputId": "97a05863-bb3d-4f79-e324-1710ac565ded"
      },
      "execution_count": null,
      "outputs": [
        {
          "output_type": "stream",
          "name": "stdout",
          "text": [
            "[2 3]\n"
          ]
        }
      ]
    },
    {
      "cell_type": "code",
      "source": [
        "print(a[-1])"
      ],
      "metadata": {
        "colab": {
          "base_uri": "https://localhost:8080/"
        },
        "id": "c8SizzxWTrXB",
        "outputId": "6cfb66da-81b9-4589-836d-9712432c35d8"
      },
      "execution_count": null,
      "outputs": [
        {
          "output_type": "stream",
          "name": "stdout",
          "text": [
            "3\n"
          ]
        }
      ]
    },
    {
      "cell_type": "code",
      "source": [
        "print(b)"
      ],
      "metadata": {
        "colab": {
          "base_uri": "https://localhost:8080/"
        },
        "id": "iXsDrbWWTvpW",
        "outputId": "20480e62-7299-4ee6-9442-b0102ed03a39"
      },
      "execution_count": null,
      "outputs": [
        {
          "output_type": "stream",
          "name": "stdout",
          "text": [
            "[[1 2 3]\n",
            " [4 5 6]]\n"
          ]
        }
      ]
    },
    {
      "cell_type": "code",
      "source": [
        "print(b[0])"
      ],
      "metadata": {
        "colab": {
          "base_uri": "https://localhost:8080/"
        },
        "id": "bbsVA2UiT0Om",
        "outputId": "4d60bfa3-fef9-4b82-fbc4-a617ddb440b5"
      },
      "execution_count": null,
      "outputs": [
        {
          "output_type": "stream",
          "name": "stdout",
          "text": [
            "[1 2 3]\n"
          ]
        }
      ]
    },
    {
      "cell_type": "code",
      "source": [
        "print(b[1,0])"
      ],
      "metadata": {
        "colab": {
          "base_uri": "https://localhost:8080/"
        },
        "id": "OV7HvBMCT52H",
        "outputId": "86e5d0da-efc2-4488-d661-24f17f63754a"
      },
      "execution_count": null,
      "outputs": [
        {
          "output_type": "stream",
          "name": "stdout",
          "text": [
            "4\n"
          ]
        }
      ]
    },
    {
      "cell_type": "code",
      "source": [
        "print(b[:,2])"
      ],
      "metadata": {
        "colab": {
          "base_uri": "https://localhost:8080/"
        },
        "id": "dxMF0Ar9T_KL",
        "outputId": "4fd6136c-0fd0-402f-d9e9-dab2f84dd797"
      },
      "execution_count": null,
      "outputs": [
        {
          "output_type": "stream",
          "name": "stdout",
          "text": [
            "[3 6]\n"
          ]
        }
      ]
    },
    {
      "cell_type": "code",
      "source": [
        "print(b[1,:])"
      ],
      "metadata": {
        "colab": {
          "base_uri": "https://localhost:8080/"
        },
        "id": "NHevjXHEUF69",
        "outputId": "dab93599-e788-4c80-d061-db521b71455c"
      },
      "execution_count": null,
      "outputs": [
        {
          "output_type": "stream",
          "name": "stdout",
          "text": [
            "[4 5 6]\n"
          ]
        }
      ]
    },
    {
      "cell_type": "code",
      "source": [
        "print(b[0,1:])"
      ],
      "metadata": {
        "colab": {
          "base_uri": "https://localhost:8080/"
        },
        "id": "r36t8DkIUWFg",
        "outputId": "fe3eec52-12f8-48f4-c144-7650533f483e"
      },
      "execution_count": null,
      "outputs": [
        {
          "output_type": "stream",
          "name": "stdout",
          "text": [
            "[2 3]\n"
          ]
        }
      ]
    },
    {
      "cell_type": "code",
      "source": [
        "print(b[:,[0,2]])"
      ],
      "metadata": {
        "colab": {
          "base_uri": "https://localhost:8080/"
        },
        "id": "O6KQ3L7aUa64",
        "outputId": "4f37a5f3-a22a-4c35-957f-0eb74338a025"
      },
      "execution_count": null,
      "outputs": [
        {
          "output_type": "stream",
          "name": "stdout",
          "text": [
            "[[1 3]\n",
            " [4 6]]\n"
          ]
        }
      ]
    },
    {
      "cell_type": "markdown",
      "source": [
        "- データ再代入"
      ],
      "metadata": {
        "id": "GPfZXdUyUl2Q"
      }
    },
    {
      "cell_type": "code",
      "source": [
        "print(a)"
      ],
      "metadata": {
        "colab": {
          "base_uri": "https://localhost:8080/"
        },
        "id": "bC4w9SuiUpJs",
        "outputId": "ce66d3ba-e8db-4674-e175-13accf3076c4"
      },
      "execution_count": null,
      "outputs": [
        {
          "output_type": "stream",
          "name": "stdout",
          "text": [
            "[1 2 3]\n"
          ]
        }
      ]
    },
    {
      "cell_type": "code",
      "source": [
        "a[2] = 4\n",
        "print(a)"
      ],
      "metadata": {
        "colab": {
          "base_uri": "https://localhost:8080/"
        },
        "id": "Mdj-vc6tVTZs",
        "outputId": "2df38c87-d7ad-43e5-cd73-d685d61f569d"
      },
      "execution_count": null,
      "outputs": [
        {
          "output_type": "stream",
          "name": "stdout",
          "text": [
            "[1 2 4]\n"
          ]
        }
      ]
    },
    {
      "cell_type": "code",
      "source": [
        "print(b)"
      ],
      "metadata": {
        "colab": {
          "base_uri": "https://localhost:8080/"
        },
        "id": "rwXAglBSVqiS",
        "outputId": "c0e39536-0cb4-4792-f8e2-603e7e8079a5"
      },
      "execution_count": null,
      "outputs": [
        {
          "output_type": "stream",
          "name": "stdout",
          "text": [
            "[[1 2 3]\n",
            " [4 5 6]]\n"
          ]
        }
      ]
    },
    {
      "cell_type": "code",
      "source": [
        "b[1,2] = 7\n",
        "print(b)"
      ],
      "metadata": {
        "colab": {
          "base_uri": "https://localhost:8080/"
        },
        "id": "Lesqhd2wVtYf",
        "outputId": "e5f18112-67e4-4b84-8104-4c2c92cf1712"
      },
      "execution_count": null,
      "outputs": [
        {
          "output_type": "stream",
          "name": "stdout",
          "text": [
            "[[1 2 3]\n",
            " [4 5 7]]\n"
          ]
        }
      ]
    },
    {
      "cell_type": "code",
      "source": [
        "b[:,2] = 8\n",
        "print(b)"
      ],
      "metadata": {
        "colab": {
          "base_uri": "https://localhost:8080/"
        },
        "id": "cx0CVvs-Vz7d",
        "outputId": "ed32b7b9-1931-4e3b-f7c5-c979bbcbbc58"
      },
      "execution_count": null,
      "outputs": [
        {
          "output_type": "stream",
          "name": "stdout",
          "text": [
            "[[1 2 8]\n",
            " [4 5 8]]\n"
          ]
        }
      ]
    },
    {
      "cell_type": "markdown",
      "source": [
        "- 深いコピー"
      ],
      "metadata": {
        "id": "XzUW5__1d2mf"
      }
    },
    {
      "cell_type": "code",
      "source": [
        "a1 = a\n",
        "print(a1)"
      ],
      "metadata": {
        "colab": {
          "base_uri": "https://localhost:8080/"
        },
        "id": "9yGNf6GId5Z5",
        "outputId": "13827cd7-593f-4dd2-dfab-2f25344b351d"
      },
      "execution_count": null,
      "outputs": [
        {
          "output_type": "stream",
          "name": "stdout",
          "text": [
            "[1 2 4]\n"
          ]
        }
      ]
    },
    {
      "cell_type": "code",
      "source": [
        "a1[1] = 5\n",
        "print(a1)\n",
        "print(a)"
      ],
      "metadata": {
        "colab": {
          "base_uri": "https://localhost:8080/"
        },
        "id": "NZpQnxC-eBHK",
        "outputId": "08c654f8-84fc-4c3a-c72c-a0a8ddc38df2"
      },
      "execution_count": null,
      "outputs": [
        {
          "output_type": "stream",
          "name": "stdout",
          "text": [
            "[1 5 4]\n",
            "[1 5 4]\n"
          ]
        }
      ]
    },
    {
      "cell_type": "code",
      "source": [
        "a2 = a.copy()\n",
        "print(a2)"
      ],
      "metadata": {
        "colab": {
          "base_uri": "https://localhost:8080/"
        },
        "id": "wkchTx84eMqu",
        "outputId": "01cb9db1-102b-4ded-fdb8-353d233b05c6"
      },
      "execution_count": null,
      "outputs": [
        {
          "output_type": "stream",
          "name": "stdout",
          "text": [
            "[1 5 4]\n"
          ]
        }
      ]
    },
    {
      "cell_type": "code",
      "source": [
        "a2[0] = 6\n",
        "print(a2)\n",
        "print(a)"
      ],
      "metadata": {
        "colab": {
          "base_uri": "https://localhost:8080/"
        },
        "id": "rq6XQasEeS8t",
        "outputId": "d723901f-6189-4d8f-92da-f0491c31613b"
      },
      "execution_count": null,
      "outputs": [
        {
          "output_type": "stream",
          "name": "stdout",
          "text": [
            "[6 5 4]\n",
            "[1 5 4]\n"
          ]
        }
      ]
    },
    {
      "cell_type": "code",
      "source": [
        "print(c2)"
      ],
      "metadata": {
        "colab": {
          "base_uri": "https://localhost:8080/"
        },
        "id": "0jhZMLknec_1",
        "outputId": "05d55eaf-ca4e-4b17-9e4f-d7a7c365d641"
      },
      "execution_count": null,
      "outputs": [
        {
          "output_type": "stream",
          "name": "stdout",
          "text": [
            "[[0 1 2]\n",
            " [3 4 5]]\n"
          ]
        }
      ]
    },
    {
      "cell_type": "code",
      "source": [
        "c3 = c2.ravel()\n",
        "c4 = c2.flatten()\n",
        "c3[0] = 6\n",
        "c4[1] = 7\n",
        "print(c3)\n",
        "print(c4)\n",
        "print(c2)"
      ],
      "metadata": {
        "colab": {
          "base_uri": "https://localhost:8080/"
        },
        "id": "GXNaZd48fehN",
        "outputId": "ec75bed7-68ec-4782-e6f5-54bd4b540085"
      },
      "execution_count": null,
      "outputs": [
        {
          "output_type": "stream",
          "name": "stdout",
          "text": [
            "[6 1 2 3 4 5]\n",
            "[6 7 2 3 4 5]\n",
            "[[6 1 2]\n",
            " [3 4 5]]\n"
          ]
        }
      ]
    },
    {
      "cell_type": "code",
      "source": [
        "py_list = [0,1]\n",
        "py_list2 = py_list[:]\n",
        "py_list2[0] = 2\n",
        "print(py_list)\n",
        "print(py_list2)"
      ],
      "metadata": {
        "colab": {
          "base_uri": "https://localhost:8080/"
        },
        "id": "pTr_CFaDgLTV",
        "outputId": "def678b5-c026-4003-b0ea-9ae6d3e144b9"
      },
      "execution_count": null,
      "outputs": [
        {
          "output_type": "stream",
          "name": "stdout",
          "text": [
            "[0, 1]\n",
            "[2, 1]\n"
          ]
        }
      ]
    },
    {
      "cell_type": "code",
      "source": [
        "np_array1 = np.array([0,1])\n",
        "np_array2 = np_array1[:]\n",
        "np_array2[0] = 2\n",
        "print(np_array1)\n",
        "print(np_array2)"
      ],
      "metadata": {
        "colab": {
          "base_uri": "https://localhost:8080/"
        },
        "id": "h_Go9TQxgiSe",
        "outputId": "7768824a-2c11-495f-9749-3d18971d1a11"
      },
      "execution_count": null,
      "outputs": [
        {
          "output_type": "stream",
          "name": "stdout",
          "text": [
            "[2 1]\n",
            "[2 1]\n"
          ]
        }
      ]
    },
    {
      "cell_type": "markdown",
      "source": [
        "- **数列を返す(arange)**"
      ],
      "metadata": {
        "id": "6jwuqQYlpBct"
      }
    },
    {
      "cell_type": "code",
      "source": [
        "np.arange(10)"
      ],
      "metadata": {
        "colab": {
          "base_uri": "https://localhost:8080/"
        },
        "id": "gnFBN98lpT0C",
        "outputId": "41e7f17b-f123-44ac-b8d5-7847b8f5e435"
      },
      "execution_count": null,
      "outputs": [
        {
          "output_type": "execute_result",
          "data": {
            "text/plain": [
              "array([0, 1, 2, 3, 4, 5, 6, 7, 8, 9])"
            ]
          },
          "metadata": {},
          "execution_count": 2
        }
      ]
    },
    {
      "cell_type": "code",
      "source": [
        "np.arange(1,11)"
      ],
      "metadata": {
        "id": "BFF5vw6Eqp64",
        "outputId": "f392b526-5783-4483-9df5-476ed573f378",
        "colab": {
          "base_uri": "https://localhost:8080/"
        }
      },
      "execution_count": null,
      "outputs": [
        {
          "output_type": "execute_result",
          "data": {
            "text/plain": [
              "array([ 1,  2,  3,  4,  5,  6,  7,  8,  9, 10])"
            ]
          },
          "metadata": {},
          "execution_count": 3
        }
      ]
    },
    {
      "cell_type": "code",
      "source": [
        "np.arange(1,11,2)"
      ],
      "metadata": {
        "id": "LlaCksgcqxP3",
        "outputId": "d6d8e202-32e2-4251-a8f7-e90ae51fad56",
        "colab": {
          "base_uri": "https://localhost:8080/"
        }
      },
      "execution_count": null,
      "outputs": [
        {
          "output_type": "execute_result",
          "data": {
            "text/plain": [
              "array([1, 3, 5, 7, 9])"
            ]
          },
          "metadata": {},
          "execution_count": 4
        }
      ]
    },
    {
      "cell_type": "markdown",
      "source": [
        "- 乱数"
      ],
      "metadata": {
        "id": "IfgbjnV6u3uv"
      }
    },
    {
      "cell_type": "code",
      "source": [
        "np.random.random((3,2))"
      ],
      "metadata": {
        "id": "lntopR6pq_bD",
        "outputId": "857bf4c0-4679-4511-9d2a-cc427f47e288",
        "colab": {
          "base_uri": "https://localhost:8080/"
        }
      },
      "execution_count": null,
      "outputs": [
        {
          "output_type": "execute_result",
          "data": {
            "text/plain": [
              "array([[0.95308809, 0.25570871],\n",
              "       [0.90346741, 0.44940346],\n",
              "       [0.71967783, 0.22723423]])"
            ]
          },
          "metadata": {},
          "execution_count": 5
        }
      ]
    },
    {
      "cell_type": "code",
      "source": [
        "np.random.seed(123)\n",
        "np.random.random((3,2))"
      ],
      "metadata": {
        "id": "coB02BW2sZBi",
        "outputId": "6d0ae52e-afc2-424f-8a2f-e1754d87700d",
        "colab": {
          "base_uri": "https://localhost:8080/"
        }
      },
      "execution_count": null,
      "outputs": [
        {
          "output_type": "execute_result",
          "data": {
            "text/plain": [
              "array([[0.69646919, 0.28613933],\n",
              "       [0.22685145, 0.55131477],\n",
              "       [0.71946897, 0.42310646]])"
            ]
          },
          "metadata": {},
          "execution_count": 6
        }
      ]
    },
    {
      "cell_type": "code",
      "source": [
        "np.random.seed(123)\n",
        "np.random.rand(4,2)"
      ],
      "metadata": {
        "colab": {
          "base_uri": "https://localhost:8080/"
        },
        "id": "-8Yb1oXFvR7N",
        "outputId": "aae9081e-731e-46ad-9e49-d76b85735b4b"
      },
      "execution_count": null,
      "outputs": [
        {
          "output_type": "execute_result",
          "data": {
            "text/plain": [
              "array([[0.69646919, 0.28613933],\n",
              "       [0.22685145, 0.55131477],\n",
              "       [0.71946897, 0.42310646],\n",
              "       [0.9807642 , 0.68482974]])"
            ]
          },
          "metadata": {},
          "execution_count": 2
        }
      ]
    },
    {
      "cell_type": "code",
      "source": [
        "np.random.seed(123)\n",
        "np.random.randint(1,10)"
      ],
      "metadata": {
        "colab": {
          "base_uri": "https://localhost:8080/"
        },
        "id": "Mv90AAQmvkZg",
        "outputId": "1c984b53-d852-4263-fcca-8adc6f19db80"
      },
      "execution_count": null,
      "outputs": [
        {
          "output_type": "execute_result",
          "data": {
            "text/plain": [
              "3"
            ]
          },
          "metadata": {},
          "execution_count": 4
        }
      ]
    },
    {
      "cell_type": "code",
      "source": [
        "np.random.seed(123)\n",
        "np.random.randint(1,100,(3,3))"
      ],
      "metadata": {
        "colab": {
          "base_uri": "https://localhost:8080/"
        },
        "id": "xU5gs1w0x9JG",
        "outputId": "99f6977c-3959-43bd-8972-a457e30d7d23"
      },
      "execution_count": null,
      "outputs": [
        {
          "output_type": "execute_result",
          "data": {
            "text/plain": [
              "array([[67, 93, 99],\n",
              "       [18, 84, 58],\n",
              "       [87, 98, 97]])"
            ]
          },
          "metadata": {},
          "execution_count": 6
        }
      ]
    },
    {
      "cell_type": "code",
      "source": [
        "np.random.seed(123)\n",
        "np.random.uniform(0.0,5.0,size=(2,3))"
      ],
      "metadata": {
        "colab": {
          "base_uri": "https://localhost:8080/"
        },
        "id": "Em7WfQShyURp",
        "outputId": "3a04b254-157b-413f-a481-e1bf6b74dc08"
      },
      "execution_count": null,
      "outputs": [
        {
          "output_type": "execute_result",
          "data": {
            "text/plain": [
              "array([[3.48234593, 1.43069667, 1.13425727],\n",
              "       [2.75657385, 3.59734485, 2.1155323 ]])"
            ]
          },
          "metadata": {},
          "execution_count": 7
        }
      ]
    },
    {
      "cell_type": "code",
      "source": [
        "np.random.seed(123)\n",
        "np.random.uniform(size=(4,3))"
      ],
      "metadata": {
        "colab": {
          "base_uri": "https://localhost:8080/"
        },
        "id": "YXuNVZgbzGQx",
        "outputId": "bc9f0ebf-0753-4fec-b98f-bf062d2eccbd"
      },
      "execution_count": null,
      "outputs": [
        {
          "output_type": "execute_result",
          "data": {
            "text/plain": [
              "array([[0.69646919, 0.28613933, 0.22685145],\n",
              "       [0.55131477, 0.71946897, 0.42310646],\n",
              "       [0.9807642 , 0.68482974, 0.4809319 ],\n",
              "       [0.39211752, 0.34317802, 0.72904971]])"
            ]
          },
          "metadata": {},
          "execution_count": 8
        }
      ]
    },
    {
      "cell_type": "code",
      "source": [
        "np.random.seed(123)\n",
        "np.random.randn(4,2)"
      ],
      "metadata": {
        "colab": {
          "base_uri": "https://localhost:8080/"
        },
        "id": "2UzS2z7t2S3I",
        "outputId": "f5751e5f-3224-49f2-c5bb-20d951581c57"
      },
      "execution_count": null,
      "outputs": [
        {
          "output_type": "execute_result",
          "data": {
            "text/plain": [
              "array([[-1.0856306 ,  0.99734545],\n",
              "       [ 0.2829785 , -1.50629471],\n",
              "       [-0.57860025,  1.65143654],\n",
              "       [-2.42667924, -0.42891263]])"
            ]
          },
          "metadata": {},
          "execution_count": 9
        }
      ]
    },
    {
      "cell_type": "markdown",
      "source": [
        "- 同じ要素の数列を作る"
      ],
      "metadata": {
        "id": "IkDzDC522lP9"
      }
    },
    {
      "cell_type": "code",
      "source": [
        "np.zeros(3)"
      ],
      "metadata": {
        "id": "7Cvw8F2m2kWx",
        "outputId": "6db61e70-2453-433a-ca39-e8399730c382",
        "colab": {
          "base_uri": "https://localhost:8080/"
        }
      },
      "execution_count": null,
      "outputs": [
        {
          "output_type": "execute_result",
          "data": {
            "text/plain": [
              "array([0., 0., 0.])"
            ]
          },
          "metadata": {},
          "execution_count": 10
        }
      ]
    },
    {
      "cell_type": "code",
      "source": [
        "np.zeros((4,3))"
      ],
      "metadata": {
        "id": "gu9SgOQR5FNX",
        "outputId": "a5b9b64f-940a-4d8b-86c1-7fd05ed37110",
        "colab": {
          "base_uri": "https://localhost:8080/"
        }
      },
      "execution_count": null,
      "outputs": [
        {
          "output_type": "execute_result",
          "data": {
            "text/plain": [
              "array([[0., 0., 0.],\n",
              "       [0., 0., 0.],\n",
              "       [0., 0., 0.],\n",
              "       [0., 0., 0.]])"
            ]
          },
          "metadata": {},
          "execution_count": 12
        }
      ]
    },
    {
      "cell_type": "code",
      "source": [
        "np.ones(2)"
      ],
      "metadata": {
        "id": "pEq8xT425TT9",
        "outputId": "a0dd6b27-90f0-4a2f-f9f5-e6912659ea2d",
        "colab": {
          "base_uri": "https://localhost:8080/"
        }
      },
      "execution_count": null,
      "outputs": [
        {
          "output_type": "execute_result",
          "data": {
            "text/plain": [
              "array([1., 1.])"
            ]
          },
          "metadata": {},
          "execution_count": 13
        }
      ]
    },
    {
      "cell_type": "code",
      "source": [
        "np.ones((3,4))"
      ],
      "metadata": {
        "id": "fyyGLn5i5bjb",
        "outputId": "e6bec3c9-9b43-4698-b108-3f10c9344984",
        "colab": {
          "base_uri": "https://localhost:8080/"
        }
      },
      "execution_count": null,
      "outputs": [
        {
          "output_type": "execute_result",
          "data": {
            "text/plain": [
              "array([[1., 1., 1., 1.],\n",
              "       [1., 1., 1., 1.],\n",
              "       [1., 1., 1., 1.]])"
            ]
          },
          "metadata": {},
          "execution_count": 14
        }
      ]
    },
    {
      "cell_type": "markdown",
      "source": [
        "- 単位行列"
      ],
      "metadata": {
        "id": "4Hxb5yMn5hFK"
      }
    },
    {
      "cell_type": "code",
      "source": [
        "np.eye(4)"
      ],
      "metadata": {
        "id": "_Bpu8Bjy5kwS",
        "outputId": "6b4cc414-8350-4935-b3c0-e5cade380c33",
        "colab": {
          "base_uri": "https://localhost:8080/"
        }
      },
      "execution_count": null,
      "outputs": [
        {
          "output_type": "execute_result",
          "data": {
            "text/plain": [
              "array([[1., 0., 0., 0.],\n",
              "       [0., 1., 0., 0.],\n",
              "       [0., 0., 1., 0.],\n",
              "       [0., 0., 0., 1.]])"
            ]
          },
          "metadata": {},
          "execution_count": 17
        }
      ]
    },
    {
      "cell_type": "markdown",
      "source": [
        "- 指定値で埋める"
      ],
      "metadata": {
        "id": "mV-1LzRt5v-H"
      }
    },
    {
      "cell_type": "code",
      "source": [
        "np.full((2,3),3.14)"
      ],
      "metadata": {
        "id": "b6iqvzVn5vRU",
        "outputId": "8b921de6-bcae-4e12-d86d-84f9a57a94f3",
        "colab": {
          "base_uri": "https://localhost:8080/"
        }
      },
      "execution_count": null,
      "outputs": [
        {
          "output_type": "execute_result",
          "data": {
            "text/plain": [
              "array([[3.14, 3.14, 3.14],\n",
              "       [3.14, 3.14, 3.14]])"
            ]
          },
          "metadata": {},
          "execution_count": 20
        }
      ]
    },
    {
      "cell_type": "code",
      "source": [
        "np.full((2,4),np.pi)"
      ],
      "metadata": {
        "id": "GpQd_seG6P3C",
        "outputId": "7bb7e69b-6a53-4d7a-87df-b1f775065433",
        "colab": {
          "base_uri": "https://localhost:8080/"
        }
      },
      "execution_count": null,
      "outputs": [
        {
          "output_type": "execute_result",
          "data": {
            "text/plain": [
              "array([[3.14159265, 3.14159265, 3.14159265, 3.14159265],\n",
              "       [3.14159265, 3.14159265, 3.14159265, 3.14159265]])"
            ]
          },
          "metadata": {},
          "execution_count": 21
        }
      ]
    },
    {
      "cell_type": "code",
      "source": [
        "np.nan"
      ],
      "metadata": {
        "id": "TdKtor4W6egN",
        "outputId": "76b6c153-9fc9-4458-c531-c017427888d2",
        "colab": {
          "base_uri": "https://localhost:8080/"
        }
      },
      "execution_count": null,
      "outputs": [
        {
          "output_type": "execute_result",
          "data": {
            "text/plain": [
              "nan"
            ]
          },
          "metadata": {},
          "execution_count": 22
        }
      ]
    },
    {
      "cell_type": "code",
      "source": [
        "np.array([1,2,np.nan])"
      ],
      "metadata": {
        "id": "pf5-Lamu6jIc",
        "outputId": "22e37752-c889-4708-efb0-38ccdfbe5d9a",
        "colab": {
          "base_uri": "https://localhost:8080/"
        }
      },
      "execution_count": null,
      "outputs": [
        {
          "output_type": "execute_result",
          "data": {
            "text/plain": [
              "array([ 1.,  2., nan])"
            ]
          },
          "metadata": {},
          "execution_count": 23
        }
      ]
    },
    {
      "cell_type": "markdown",
      "source": [
        "- 範囲指定で均等割りデータを作る"
      ],
      "metadata": {
        "id": "PlXwIgoM7vZZ"
      }
    },
    {
      "cell_type": "code",
      "source": [
        "np.linspace(0,10,7)"
      ],
      "metadata": {
        "id": "G8tEdyAo8MM6",
        "outputId": "6585a854-6ac4-4794-8709-1d7dbbae9448",
        "colab": {
          "base_uri": "https://localhost:8080/"
        }
      },
      "execution_count": null,
      "outputs": [
        {
          "output_type": "execute_result",
          "data": {
            "text/plain": [
              "array([ 0.        ,  1.66666667,  3.33333333,  5.        ,  6.66666667,\n",
              "        8.33333333, 10.        ])"
            ]
          },
          "metadata": {},
          "execution_count": 26
        }
      ]
    },
    {
      "cell_type": "code",
      "source": [
        "np.linspace(0,np.pi,21)"
      ],
      "metadata": {
        "id": "NbHT-52Z_UUt",
        "outputId": "c4bf3b51-0d1a-4cd1-ac8d-2102914d2e36",
        "colab": {
          "base_uri": "https://localhost:8080/"
        }
      },
      "execution_count": null,
      "outputs": [
        {
          "output_type": "execute_result",
          "data": {
            "text/plain": [
              "array([0.        , 0.15707963, 0.31415927, 0.4712389 , 0.62831853,\n",
              "       0.78539816, 0.9424778 , 1.09955743, 1.25663706, 1.41371669,\n",
              "       1.57079633, 1.72787596, 1.88495559, 2.04203522, 2.19911486,\n",
              "       2.35619449, 2.51327412, 2.67035376, 2.82743339, 2.98451302,\n",
              "       3.14159265])"
            ]
          },
          "metadata": {},
          "execution_count": 27
        }
      ]
    },
    {
      "cell_type": "markdown",
      "source": [
        "- 要素間の差分"
      ],
      "metadata": {
        "id": "20sgjzoC_kuu"
      }
    },
    {
      "cell_type": "code",
      "source": [
        "l = np.array([2,2,6,1,3])\n",
        "np.diff(l)"
      ],
      "metadata": {
        "id": "X5sHSEEb_vlM",
        "outputId": "1a0bfe23-a7ee-4128-9849-94a0ab8cc6e3",
        "colab": {
          "base_uri": "https://localhost:8080/"
        }
      },
      "execution_count": null,
      "outputs": [
        {
          "output_type": "execute_result",
          "data": {
            "text/plain": [
              "array([ 0,  4, -5,  2])"
            ]
          },
          "metadata": {},
          "execution_count": 28
        }
      ]
    },
    {
      "cell_type": "code",
      "source": [
        "a = np.array([1,5,4])\n",
        "a1 = np.array([1,5,4])\n",
        "print(a)\n",
        "print(a1)"
      ],
      "metadata": {
        "id": "OU2mz_yJAJDh",
        "outputId": "802b05df-0d99-4afc-caab-bc9c476237db",
        "colab": {
          "base_uri": "https://localhost:8080/"
        }
      },
      "execution_count": null,
      "outputs": [
        {
          "output_type": "stream",
          "name": "stdout",
          "text": [
            "[1 5 4]\n",
            "[1 5 4]\n"
          ]
        }
      ]
    },
    {
      "cell_type": "code",
      "source": [
        "np.concatenate([a,a1])"
      ],
      "metadata": {
        "id": "ux0mwVbGAWgS",
        "outputId": "2089cee1-e769-4ee7-9fc4-a59ec9cf67af",
        "colab": {
          "base_uri": "https://localhost:8080/"
        }
      },
      "execution_count": null,
      "outputs": [
        {
          "output_type": "execute_result",
          "data": {
            "text/plain": [
              "array([1, 5, 4, 1, 5, 4])"
            ]
          },
          "metadata": {},
          "execution_count": 30
        }
      ]
    },
    {
      "cell_type": "code",
      "source": [
        "b = np.array([[1,2,8],[4,5,8]])\n",
        "b1 = np.array([[10],[20]])\n",
        "print(b)\n",
        "print(b1)"
      ],
      "metadata": {
        "id": "l7OUnsjIAj1w",
        "outputId": "bbb14e5a-6b75-47f0-de68-b7a6e973d7af",
        "colab": {
          "base_uri": "https://localhost:8080/"
        }
      },
      "execution_count": 4,
      "outputs": [
        {
          "output_type": "stream",
          "name": "stdout",
          "text": [
            "[[1 2 8]\n",
            " [4 5 8]]\n",
            "[[10]\n",
            " [20]]\n"
          ]
        }
      ]
    },
    {
      "cell_type": "code",
      "source": [
        "np.concatenate([b,b1],axis=1)"
      ],
      "metadata": {
        "id": "0ue2dKN9BHjb",
        "outputId": "c141499f-fdda-495f-9ee5-edda98400788",
        "colab": {
          "base_uri": "https://localhost:8080/"
        }
      },
      "execution_count": null,
      "outputs": [
        {
          "output_type": "execute_result",
          "data": {
            "text/plain": [
              "array([[ 1,  2,  8, 10],\n",
              "       [ 4,  5,  8, 20]])"
            ]
          },
          "metadata": {},
          "execution_count": 34
        }
      ]
    },
    {
      "cell_type": "code",
      "source": [
        "np.hstack([b,b1])"
      ],
      "metadata": {
        "id": "oocif8MmBWDl",
        "outputId": "b6a164bc-d3df-431b-b488-77eaaee3b14c",
        "colab": {
          "base_uri": "https://localhost:8080/"
        }
      },
      "execution_count": null,
      "outputs": [
        {
          "output_type": "execute_result",
          "data": {
            "text/plain": [
              "array([[ 1,  2,  8, 10],\n",
              "       [ 4,  5,  8, 20]])"
            ]
          },
          "metadata": {},
          "execution_count": 37
        }
      ]
    },
    {
      "cell_type": "code",
      "source": [
        "b2 = np.array([30,60,45])\n",
        "print(b2)"
      ],
      "metadata": {
        "id": "uOK_hBgQBuPw",
        "outputId": "1c6337cb-deca-436c-e455-72173d8444aa",
        "colab": {
          "base_uri": "https://localhost:8080/"
        }
      },
      "execution_count": null,
      "outputs": [
        {
          "output_type": "stream",
          "name": "stdout",
          "text": [
            "[30 60 45]\n"
          ]
        }
      ]
    },
    {
      "cell_type": "code",
      "source": [
        "b3 = np.vstack([b,b2])\n",
        "print(b3)"
      ],
      "metadata": {
        "id": "UetuaacVEWz9",
        "outputId": "458a348f-d108-4895-b850-819708f1152a",
        "colab": {
          "base_uri": "https://localhost:8080/"
        }
      },
      "execution_count": null,
      "outputs": [
        {
          "output_type": "stream",
          "name": "stdout",
          "text": [
            "[[ 1  2  8]\n",
            " [ 4  5  8]\n",
            " [30 60 45]]\n"
          ]
        }
      ]
    },
    {
      "cell_type": "markdown",
      "source": [
        "- 分割"
      ],
      "metadata": {
        "id": "FRXzwtJUEjnz"
      }
    },
    {
      "cell_type": "code",
      "source": [
        "first,second = np.hsplit(b3,[2])\n",
        "print(first)\n",
        "print(second)"
      ],
      "metadata": {
        "id": "4f2OiOPVEpYN",
        "outputId": "819d0114-7b7a-4bcd-e12a-c7736c74eea5",
        "colab": {
          "base_uri": "https://localhost:8080/"
        }
      },
      "execution_count": null,
      "outputs": [
        {
          "output_type": "stream",
          "name": "stdout",
          "text": [
            "[[ 1  2]\n",
            " [ 4  5]\n",
            " [30 60]]\n",
            "[[ 8]\n",
            " [ 8]\n",
            " [45]]\n"
          ]
        }
      ]
    },
    {
      "cell_type": "code",
      "source": [
        "first1,second1 = np.vsplit(b3,[2])\n",
        "print(first1)\n",
        "print(second1)"
      ],
      "metadata": {
        "id": "I2DIkU5WGGsF",
        "outputId": "1fa72553-4c91-49f6-f9b5-62a3d52fb8cd",
        "colab": {
          "base_uri": "https://localhost:8080/"
        }
      },
      "execution_count": null,
      "outputs": [
        {
          "output_type": "stream",
          "name": "stdout",
          "text": [
            "[[1 2 8]\n",
            " [4 5 8]]\n",
            "[[30 60 45]]\n"
          ]
        }
      ]
    },
    {
      "cell_type": "markdown",
      "source": [
        "- 転置"
      ],
      "metadata": {
        "id": "42QRRMGdGZjm"
      }
    },
    {
      "cell_type": "code",
      "source": [
        "print(b)"
      ],
      "metadata": {
        "id": "Bn51VKSGGgDI",
        "outputId": "669b53ef-f65f-4826-c7eb-a4df0554fa59",
        "colab": {
          "base_uri": "https://localhost:8080/"
        }
      },
      "execution_count": null,
      "outputs": [
        {
          "output_type": "stream",
          "name": "stdout",
          "text": [
            "[[1 2 8]\n",
            " [4 5 8]]\n"
          ]
        }
      ]
    },
    {
      "cell_type": "code",
      "source": [
        "print(b.T)"
      ],
      "metadata": {
        "id": "7ljLriE6GqG3",
        "outputId": "d566a29a-7646-4578-dddc-df03085ee746",
        "colab": {
          "base_uri": "https://localhost:8080/"
        }
      },
      "execution_count": null,
      "outputs": [
        {
          "output_type": "stream",
          "name": "stdout",
          "text": [
            "[[1 4]\n",
            " [2 5]\n",
            " [8 8]]\n"
          ]
        }
      ]
    },
    {
      "cell_type": "markdown",
      "source": [
        "- 次元追加"
      ],
      "metadata": {
        "id": "y78xBip9KnPN"
      }
    },
    {
      "cell_type": "code",
      "source": [
        "print(a)\n",
        "print(a[np.newaxis,:])\n"
      ],
      "metadata": {
        "id": "ie30DWQSNVQS",
        "outputId": "f6ec95b5-138d-424a-bed9-8c908c2eca88",
        "colab": {
          "base_uri": "https://localhost:8080/"
        }
      },
      "execution_count": null,
      "outputs": [
        {
          "output_type": "stream",
          "name": "stdout",
          "text": [
            "[1 5 4]\n",
            "[[1 5 4]]\n"
          ]
        }
      ]
    },
    {
      "cell_type": "code",
      "source": [
        "print(a[:,np.newaxis])\n"
      ],
      "metadata": {
        "id": "9Ikfi66xN7Tn",
        "outputId": "331b6aa7-6588-4976-e071-27193965f703",
        "colab": {
          "base_uri": "https://localhost:8080/"
        }
      },
      "execution_count": null,
      "outputs": [
        {
          "output_type": "stream",
          "name": "stdout",
          "text": [
            "[[1]\n",
            " [5]\n",
            " [4]]\n"
          ]
        }
      ]
    },
    {
      "cell_type": "markdown",
      "source": [
        "- グリッドデータの生成"
      ],
      "metadata": {
        "id": "EKjWpxvjOTJ-"
      }
    },
    {
      "cell_type": "code",
      "source": [
        "m = np.arange(0,4)\n",
        "print(m)"
      ],
      "metadata": {
        "id": "yE1t_ss2sFO9",
        "outputId": "dc0c0c79-c50a-4aa0-afc7-07ce0fed1c74",
        "colab": {
          "base_uri": "https://localhost:8080/"
        }
      },
      "execution_count": null,
      "outputs": [
        {
          "output_type": "stream",
          "name": "stdout",
          "text": [
            "[0 1 2 3]\n"
          ]
        }
      ]
    },
    {
      "cell_type": "code",
      "source": [
        "n = np.arange(4,7)\n",
        "print(n)"
      ],
      "metadata": {
        "id": "FYiq2obPsh5G",
        "outputId": "61c16914-ba28-4a10-aa65-2ae648fbd0b3",
        "colab": {
          "base_uri": "https://localhost:8080/"
        }
      },
      "execution_count": null,
      "outputs": [
        {
          "output_type": "stream",
          "name": "stdout",
          "text": [
            "[4 5 6]\n"
          ]
        }
      ]
    },
    {
      "cell_type": "code",
      "source": [
        "xx,yy = np.meshgrid(m,n)\n",
        "print(xx)\n",
        "print(yy)"
      ],
      "metadata": {
        "id": "uAlrVuIktBQd",
        "outputId": "68403bed-89d2-41bd-9778-3eeb7b7330b0",
        "colab": {
          "base_uri": "https://localhost:8080/"
        }
      },
      "execution_count": null,
      "outputs": [
        {
          "output_type": "stream",
          "name": "stdout",
          "text": [
            "[[0 1 2 3]\n",
            " [0 1 2 3]\n",
            " [0 1 2 3]]\n",
            "[[4 4 4 4]\n",
            " [5 5 5 5]\n",
            " [6 6 6 6]]\n"
          ]
        }
      ]
    },
    {
      "cell_type": "markdown",
      "source": [
        "## **4.1.3 Numpyの各機能**"
      ],
      "metadata": {
        "id": "7H_i-p60tUFQ"
      }
    },
    {
      "cell_type": "code",
      "source": [
        "import numpy as np\n",
        "a = np.arange(3)\n",
        "b = np.arange(-3,3).reshape((2,3))\n",
        "c = np.arange(1,7).reshape((2,3))\n",
        "d = np.arange(6).reshape((3,2))\n",
        "e = np.linspace(-1,1,10)\n",
        "print(\"a:\",a)\n",
        "print(\"b:\",b)\n",
        "print(\"c:\",c)\n",
        "print(\"d:\",d)\n",
        "print(\"e:\",e)"
      ],
      "metadata": {
        "id": "UjjiqzBIteTX",
        "outputId": "42ecd2f1-b6b1-4d91-8254-4ddc04d46b79",
        "colab": {
          "base_uri": "https://localhost:8080/"
        }
      },
      "execution_count": 7,
      "outputs": [
        {
          "output_type": "stream",
          "name": "stdout",
          "text": [
            "a: [0 1 2]\n",
            "b: [[-3 -2 -1]\n",
            " [ 0  1  2]]\n",
            "c: [[1 2 3]\n",
            " [4 5 6]]\n",
            "d: [[0 1]\n",
            " [2 3]\n",
            " [4 5]]\n",
            "e: [-1.         -0.77777778 -0.55555556 -0.33333333 -0.11111111  0.11111111\n",
            "  0.33333333  0.55555556  0.77777778  1.        ]\n"
          ]
        }
      ]
    },
    {
      "cell_type": "code",
      "source": [
        "print(\"a:\",a.shape)\n",
        "print(\"b:\",b.shape)\n",
        "print(\"c:\",c.shape)\n",
        "print(\"d:\",d.shape)\n",
        "print(\"e:\",e.shape)"
      ],
      "metadata": {
        "id": "3SoiydfeBNvy",
        "outputId": "f17f5c52-34a0-4683-8b4c-0e7ae4bec78e",
        "colab": {
          "base_uri": "https://localhost:8080/"
        }
      },
      "execution_count": null,
      "outputs": [
        {
          "output_type": "stream",
          "name": "stdout",
          "text": [
            "a: (3,)\n",
            "b: (2, 3)\n",
            "c: (2, 3)\n",
            "d: (3, 2)\n",
            "e: (10,)\n"
          ]
        }
      ]
    },
    {
      "cell_type": "markdown",
      "source": [
        "- ユニバーサルファンクション"
      ],
      "metadata": {
        "id": "xa0myN7yB7Jd"
      }
    },
    {
      "cell_type": "code",
      "source": [
        "li = [[-3,-2,-1],[0,1,2]]\n",
        "new = []\n",
        "for i,j in enumerate(li):\n",
        "  new.append([])\n",
        "  for k in j:\n",
        "    new[i].append(abs(k))\n",
        "print(new)"
      ],
      "metadata": {
        "id": "auMyqzTmBIbc",
        "colab": {
          "base_uri": "https://localhost:8080/"
        },
        "outputId": "a6e5b61a-0afb-4b8d-bcd2-d8d5a2c4e131"
      },
      "execution_count": 1,
      "outputs": [
        {
          "output_type": "stream",
          "name": "stdout",
          "text": [
            "[[3, 2, 1], [0, 1, 2]]\n"
          ]
        }
      ]
    },
    {
      "cell_type": "code",
      "source": [
        "np.abs(b)"
      ],
      "metadata": {
        "colab": {
          "base_uri": "https://localhost:8080/"
        },
        "id": "r2vCUfBXba-g",
        "outputId": "cbb66a50-d5bd-41e7-f62c-e865282a754e"
      },
      "execution_count": 8,
      "outputs": [
        {
          "output_type": "execute_result",
          "data": {
            "text/plain": [
              "array([[3, 2, 1],\n",
              "       [0, 1, 2]])"
            ]
          },
          "metadata": {},
          "execution_count": 8
        }
      ]
    },
    {
      "cell_type": "code",
      "source": [
        "np.sin(e)"
      ],
      "metadata": {
        "colab": {
          "base_uri": "https://localhost:8080/"
        },
        "id": "c3GKzc6XbxoS",
        "outputId": "2e669e13-2126-4724-b8fa-7e2c164ae6e4"
      },
      "execution_count": 9,
      "outputs": [
        {
          "output_type": "execute_result",
          "data": {
            "text/plain": [
              "array([-0.84147098, -0.70169788, -0.52741539, -0.3271947 , -0.11088263,\n",
              "        0.11088263,  0.3271947 ,  0.52741539,  0.70169788,  0.84147098])"
            ]
          },
          "metadata": {},
          "execution_count": 9
        }
      ]
    },
    {
      "cell_type": "code",
      "source": [
        "np.cos(e)"
      ],
      "metadata": {
        "id": "pjVzhu7FcVXx",
        "outputId": "c781d564-83c3-4314-f672-f070772fd5e9",
        "colab": {
          "base_uri": "https://localhost:8080/"
        }
      },
      "execution_count": 10,
      "outputs": [
        {
          "output_type": "execute_result",
          "data": {
            "text/plain": [
              "array([0.54030231, 0.71247462, 0.84960756, 0.94495695, 0.99383351,\n",
              "       0.99383351, 0.94495695, 0.84960756, 0.71247462, 0.54030231])"
            ]
          },
          "metadata": {},
          "execution_count": 10
        }
      ]
    },
    {
      "cell_type": "code",
      "source": [
        "np.log(a)"
      ],
      "metadata": {
        "id": "An88SETMclBe",
        "outputId": "7126178d-550a-4691-c74e-31c9ce1e06ab",
        "colab": {
          "base_uri": "https://localhost:8080/"
        }
      },
      "execution_count": 11,
      "outputs": [
        {
          "output_type": "stream",
          "name": "stderr",
          "text": [
            "/usr/local/lib/python3.7/dist-packages/ipykernel_launcher.py:1: RuntimeWarning: divide by zero encountered in log\n",
            "  \"\"\"Entry point for launching an IPython kernel.\n"
          ]
        },
        {
          "output_type": "execute_result",
          "data": {
            "text/plain": [
              "array([      -inf, 0.        , 0.69314718])"
            ]
          },
          "metadata": {},
          "execution_count": 11
        }
      ]
    },
    {
      "cell_type": "code",
      "source": [
        "np.log10(c)"
      ],
      "metadata": {
        "id": "jmJmXIz1jpLE",
        "outputId": "eaa52b2c-4844-428c-ce05-db7d5aa815b7",
        "colab": {
          "base_uri": "https://localhost:8080/"
        }
      },
      "execution_count": 12,
      "outputs": [
        {
          "output_type": "execute_result",
          "data": {
            "text/plain": [
              "array([[0.        , 0.30103   , 0.47712125],\n",
              "       [0.60205999, 0.69897   , 0.77815125]])"
            ]
          },
          "metadata": {},
          "execution_count": 12
        }
      ]
    },
    {
      "cell_type": "code",
      "source": [
        "np.exp(a)"
      ],
      "metadata": {
        "id": "TKamycdFj-hc",
        "outputId": "49b4c1b8-c4c8-476f-c1ef-3a6601a8a60b",
        "colab": {
          "base_uri": "https://localhost:8080/"
        }
      },
      "execution_count": 13,
      "outputs": [
        {
          "output_type": "execute_result",
          "data": {
            "text/plain": [
              "array([1.        , 2.71828183, 7.3890561 ])"
            ]
          },
          "metadata": {},
          "execution_count": 13
        }
      ]
    },
    {
      "cell_type": "markdown",
      "source": [
        "- ブロードキャスト"
      ],
      "metadata": {
        "id": "5_OropKJkDeO"
      }
    },
    {
      "cell_type": "code",
      "source": [
        "print(a)"
      ],
      "metadata": {
        "id": "kpWlLGLbkKBe",
        "outputId": "2bf8eb8a-d7b6-4247-b88d-8e2d758d37ec",
        "colab": {
          "base_uri": "https://localhost:8080/"
        }
      },
      "execution_count": 14,
      "outputs": [
        {
          "output_type": "stream",
          "name": "stdout",
          "text": [
            "[0 1 2]\n"
          ]
        }
      ]
    },
    {
      "cell_type": "code",
      "source": [
        "print(a + 10)"
      ],
      "metadata": {
        "id": "mA-aTVDrmCJH",
        "outputId": "72108df6-8c9d-4bc6-bd6c-89b8826cdb24",
        "colab": {
          "base_uri": "https://localhost:8080/"
        }
      },
      "execution_count": 15,
      "outputs": [
        {
          "output_type": "stream",
          "name": "stdout",
          "text": [
            "[10 11 12]\n"
          ]
        }
      ]
    },
    {
      "cell_type": "code",
      "source": [
        "print(b)"
      ],
      "metadata": {
        "id": "5tqe9SE8mIp9",
        "outputId": "23228984-3c50-4570-983c-ef3bac596d51",
        "colab": {
          "base_uri": "https://localhost:8080/"
        }
      },
      "execution_count": 16,
      "outputs": [
        {
          "output_type": "stream",
          "name": "stdout",
          "text": [
            "[[-3 -2 -1]\n",
            " [ 0  1  2]]\n"
          ]
        }
      ]
    },
    {
      "cell_type": "code",
      "source": [
        "print(b)"
      ],
      "metadata": {
        "id": "uc7OVVlzmhJt",
        "outputId": "7929adcf-6756-4ba4-bac1-abe48a0c5415",
        "colab": {
          "base_uri": "https://localhost:8080/"
        }
      },
      "execution_count": 17,
      "outputs": [
        {
          "output_type": "stream",
          "name": "stdout",
          "text": [
            "[[-3 -2 -1]\n",
            " [ 0  1  2]]\n"
          ]
        }
      ]
    },
    {
      "cell_type": "code",
      "source": [
        "print(a + b)"
      ],
      "metadata": {
        "id": "jGlf0hFqmkPS",
        "outputId": "a4472c64-ca33-4355-f2e6-ce5e507daad0",
        "colab": {
          "base_uri": "https://localhost:8080/"
        }
      },
      "execution_count": 18,
      "outputs": [
        {
          "output_type": "stream",
          "name": "stdout",
          "text": [
            "[[-3 -1  1]\n",
            " [ 0  2  4]]\n"
          ]
        }
      ]
    },
    {
      "cell_type": "code",
      "source": [
        "a1 = a[:,np.newaxis]\n",
        "print(a1)"
      ],
      "metadata": {
        "id": "PSudk0VCmvpQ",
        "outputId": "40685970-603f-4cf3-cf25-6093dd6fd16c",
        "colab": {
          "base_uri": "https://localhost:8080/"
        }
      },
      "execution_count": 19,
      "outputs": [
        {
          "output_type": "stream",
          "name": "stdout",
          "text": [
            "[[0]\n",
            " [1]\n",
            " [2]]\n"
          ]
        }
      ]
    },
    {
      "cell_type": "code",
      "source": [
        "print(a + a1)"
      ],
      "metadata": {
        "id": "6pEM6sA6nAO6",
        "outputId": "fdfbd338-52bb-4365-9dc8-a1bbfa32e35b",
        "colab": {
          "base_uri": "https://localhost:8080/"
        }
      },
      "execution_count": 20,
      "outputs": [
        {
          "output_type": "stream",
          "name": "stdout",
          "text": [
            "[[0 1 2]\n",
            " [1 2 3]\n",
            " [2 3 4]]\n"
          ]
        }
      ]
    },
    {
      "cell_type": "code",
      "source": [
        "print(c)"
      ],
      "metadata": {
        "id": "VIZVhvhRpfpL",
        "outputId": "1557e2a6-55b6-4e82-a6c8-80cc583793ac",
        "colab": {
          "base_uri": "https://localhost:8080/"
        }
      },
      "execution_count": 21,
      "outputs": [
        {
          "output_type": "stream",
          "name": "stdout",
          "text": [
            "[[1 2 3]\n",
            " [4 5 6]]\n"
          ]
        }
      ]
    },
    {
      "cell_type": "code",
      "source": [
        "print(np.mean(c))"
      ],
      "metadata": {
        "id": "-Hn69CEtp3U8",
        "outputId": "1e9dfe33-eb04-4568-d7b8-47cc59b65b5e",
        "colab": {
          "base_uri": "https://localhost:8080/"
        }
      },
      "execution_count": 22,
      "outputs": [
        {
          "output_type": "stream",
          "name": "stdout",
          "text": [
            "3.5\n"
          ]
        }
      ]
    },
    {
      "cell_type": "code",
      "source": [
        "print(abs(c - np.mean(c)))"
      ],
      "metadata": {
        "id": "dDLaEN7Dp8Zc",
        "outputId": "22beb9eb-3393-491d-83f3-b87653797256",
        "colab": {
          "base_uri": "https://localhost:8080/"
        }
      },
      "execution_count": 25,
      "outputs": [
        {
          "output_type": "stream",
          "name": "stdout",
          "text": [
            "[[2.5 1.5 0.5]\n",
            " [0.5 1.5 2.5]]\n"
          ]
        }
      ]
    },
    {
      "cell_type": "code",
      "source": [
        "print(b)"
      ],
      "metadata": {
        "id": "HPVWoJptqPav",
        "outputId": "e43b032b-606f-4281-ce3d-0d0a52d5e86a",
        "colab": {
          "base_uri": "https://localhost:8080/"
        }
      },
      "execution_count": 26,
      "outputs": [
        {
          "output_type": "stream",
          "name": "stdout",
          "text": [
            "[[-3 -2 -1]\n",
            " [ 0  1  2]]\n"
          ]
        }
      ]
    },
    {
      "cell_type": "code",
      "source": [
        "print(b * 2)"
      ],
      "metadata": {
        "id": "VV4X9jVdqSGl",
        "outputId": "c55f09c5-0ae5-4962-8afc-ba25a4a3454b",
        "colab": {
          "base_uri": "https://localhost:8080/"
        }
      },
      "execution_count": 27,
      "outputs": [
        {
          "output_type": "stream",
          "name": "stdout",
          "text": [
            "[[-6 -4 -2]\n",
            " [ 0  2  4]]\n"
          ]
        }
      ]
    },
    {
      "cell_type": "code",
      "source": [
        "print(b ** 3)"
      ],
      "metadata": {
        "id": "f_VXAcyNqXhL",
        "outputId": "4e3961b4-06c6-4506-e9dc-3f46f9f0e528",
        "colab": {
          "base_uri": "https://localhost:8080/"
        }
      },
      "execution_count": 28,
      "outputs": [
        {
          "output_type": "stream",
          "name": "stdout",
          "text": [
            "[[-27  -8  -1]\n",
            " [  0   1   8]]\n"
          ]
        }
      ]
    },
    {
      "cell_type": "code",
      "source": [
        "print(b)\n",
        "print(a)\n",
        "print(b - a)"
      ],
      "metadata": {
        "id": "UHtqOA4Rqc-R",
        "outputId": "73a38f33-6ac8-4f03-9c9a-eeb00ec6de63",
        "colab": {
          "base_uri": "https://localhost:8080/"
        }
      },
      "execution_count": 29,
      "outputs": [
        {
          "output_type": "stream",
          "name": "stdout",
          "text": [
            "[[-3 -2 -1]\n",
            " [ 0  1  2]]\n",
            "[0 1 2]\n",
            "[[-3 -3 -3]\n",
            " [ 0  0  0]]\n"
          ]
        }
      ]
    },
    {
      "cell_type": "code",
      "source": [
        "print(a * b)"
      ],
      "metadata": {
        "id": "GL89R5MZqmTe",
        "outputId": "bbf3172e-fb08-412d-fe5e-eb7e5bd23775",
        "colab": {
          "base_uri": "https://localhost:8080/"
        }
      },
      "execution_count": 30,
      "outputs": [
        {
          "output_type": "stream",
          "name": "stdout",
          "text": [
            "[[ 0 -2 -2]\n",
            " [ 0  1  4]]\n"
          ]
        }
      ]
    },
    {
      "cell_type": "code",
      "source": [
        "print(c)\n",
        "print(a)\n",
        "print(a / c)"
      ],
      "metadata": {
        "id": "c3--k0Ojq1AH",
        "outputId": "3fcaa862-dd92-4278-a98b-71bebdc66cd7",
        "colab": {
          "base_uri": "https://localhost:8080/"
        }
      },
      "execution_count": 32,
      "outputs": [
        {
          "output_type": "stream",
          "name": "stdout",
          "text": [
            "[[1 2 3]\n",
            " [4 5 6]]\n",
            "[0 1 2]\n",
            "[[0.         0.5        0.66666667]\n",
            " [0.         0.2        0.33333333]]\n"
          ]
        }
      ]
    },
    {
      "cell_type": "code",
      "source": [
        "print(c / a)"
      ],
      "metadata": {
        "id": "ijDcALFCrA1s",
        "outputId": "21bc7f97-9de6-4e34-9c8f-3869df2b3df8",
        "colab": {
          "base_uri": "https://localhost:8080/"
        }
      },
      "execution_count": 33,
      "outputs": [
        {
          "output_type": "stream",
          "name": "stdout",
          "text": [
            "[[inf 2.  1.5]\n",
            " [inf 5.  3. ]]\n"
          ]
        },
        {
          "output_type": "stream",
          "name": "stderr",
          "text": [
            "/usr/local/lib/python3.7/dist-packages/ipykernel_launcher.py:1: RuntimeWarning: divide by zero encountered in true_divide\n",
            "  \"\"\"Entry point for launching an IPython kernel.\n"
          ]
        }
      ]
    },
    {
      "cell_type": "code",
      "source": [
        "print(c / (a + 1e-6))"
      ],
      "metadata": {
        "id": "vJcDTEmGrIBv",
        "outputId": "58418daf-81ff-43a7-f480-0da0109e55cc",
        "colab": {
          "base_uri": "https://localhost:8080/"
        }
      },
      "execution_count": 35,
      "outputs": [
        {
          "output_type": "stream",
          "name": "stdout",
          "text": [
            "[[1.00000000e+06 1.99999800e+00 1.49999925e+00]\n",
            " [4.00000000e+06 4.99999500e+00 2.99999850e+00]]\n"
          ]
        }
      ]
    },
    {
      "cell_type": "markdown",
      "source": [
        "- ドット積"
      ],
      "metadata": {
        "id": "Ltw5PLDSr9wE"
      }
    },
    {
      "cell_type": "code",
      "source": [
        "print(a)\n",
        "print(b)\n",
        "print(np.dot(b,a))"
      ],
      "metadata": {
        "id": "aeR0ByFwsCSl",
        "outputId": "beb1720f-178f-4595-8a7d-9407ec5ca0d2",
        "colab": {
          "base_uri": "https://localhost:8080/"
        }
      },
      "execution_count": 36,
      "outputs": [
        {
          "output_type": "stream",
          "name": "stdout",
          "text": [
            "[0 1 2]\n",
            "[[-3 -2 -1]\n",
            " [ 0  1  2]]\n",
            "[-4  5]\n"
          ]
        }
      ]
    },
    {
      "cell_type": "code",
      "source": [
        "print(b @ a)"
      ],
      "metadata": {
        "id": "wypTxDmnsNxm",
        "outputId": "35a74b23-b5c8-48f3-eeb6-76d8297e12c3",
        "colab": {
          "base_uri": "https://localhost:8080/"
        }
      },
      "execution_count": 37,
      "outputs": [
        {
          "output_type": "stream",
          "name": "stdout",
          "text": [
            "[-4  5]\n"
          ]
        }
      ]
    },
    {
      "cell_type": "code",
      "source": [
        "print(b)\n",
        "print(d)\n",
        "print(b @ d)\n",
        "print(d @ b)"
      ],
      "metadata": {
        "id": "xjfhaDQYsUkl",
        "outputId": "aff8678b-5488-4bae-ebb8-61214057566a",
        "colab": {
          "base_uri": "https://localhost:8080/"
        }
      },
      "execution_count": 39,
      "outputs": [
        {
          "output_type": "stream",
          "name": "stdout",
          "text": [
            "[[-3 -2 -1]\n",
            " [ 0  1  2]]\n",
            "[[0 1]\n",
            " [2 3]\n",
            " [4 5]]\n",
            "[[ -8 -14]\n",
            " [ 10  13]]\n",
            "[[  0   1   2]\n",
            " [ -6  -1   4]\n",
            " [-12  -3   6]]\n"
          ]
        }
      ]
    },
    {
      "cell_type": "markdown",
      "source": [
        "- 判定・論理値"
      ],
      "metadata": {
        "id": "9knCA64PsoMv"
      }
    },
    {
      "cell_type": "code",
      "source": [
        "print(a)\n",
        "print(a > 1)"
      ],
      "metadata": {
        "id": "ObmH35-7stJg",
        "outputId": "45c25df7-5861-4969-dea9-7717bd344db3",
        "colab": {
          "base_uri": "https://localhost:8080/"
        }
      },
      "execution_count": 40,
      "outputs": [
        {
          "output_type": "stream",
          "name": "stdout",
          "text": [
            "[0 1 2]\n",
            "[False False  True]\n"
          ]
        }
      ]
    },
    {
      "cell_type": "code",
      "source": [
        "print(b)\n",
        "print(b > 0)"
      ],
      "metadata": {
        "id": "bqEYXziks0oR",
        "outputId": "087d6ce0-ed99-4309-cbc4-c3664092de60",
        "colab": {
          "base_uri": "https://localhost:8080/"
        }
      },
      "execution_count": 41,
      "outputs": [
        {
          "output_type": "stream",
          "name": "stdout",
          "text": [
            "[[-3 -2 -1]\n",
            " [ 0  1  2]]\n",
            "[[False False False]\n",
            " [False  True  True]]\n"
          ]
        }
      ]
    },
    {
      "cell_type": "code",
      "source": [
        "print(b)\n",
        "np.count_nonzero(b > 0)"
      ],
      "metadata": {
        "id": "ux4gKuNNs9yM",
        "outputId": "9997c79e-a81f-4f06-f684-cda7b75bc8fa",
        "colab": {
          "base_uri": "https://localhost:8080/"
        }
      },
      "execution_count": 42,
      "outputs": [
        {
          "output_type": "stream",
          "name": "stdout",
          "text": [
            "[[-3 -2 -1]\n",
            " [ 0  1  2]]\n"
          ]
        },
        {
          "output_type": "execute_result",
          "data": {
            "text/plain": [
              "2"
            ]
          },
          "metadata": {},
          "execution_count": 42
        }
      ]
    },
    {
      "cell_type": "code",
      "source": [
        "print(np.sum(b > 0))"
      ],
      "metadata": {
        "id": "GcEyCAtStJIc",
        "outputId": "962f38d6-4077-4c9d-9694-bd7a67e3f9c9",
        "colab": {
          "base_uri": "https://localhost:8080/"
        }
      },
      "execution_count": 43,
      "outputs": [
        {
          "output_type": "stream",
          "name": "stdout",
          "text": [
            "2\n"
          ]
        }
      ]
    },
    {
      "cell_type": "code",
      "source": [
        "print(np.any(b > 0))"
      ],
      "metadata": {
        "id": "pA-SNck8tR0H",
        "outputId": "71b7857c-dc63-42e7-ec83-4c97d5cd11d2",
        "colab": {
          "base_uri": "https://localhost:8080/"
        }
      },
      "execution_count": 44,
      "outputs": [
        {
          "output_type": "stream",
          "name": "stdout",
          "text": [
            "True\n"
          ]
        }
      ]
    },
    {
      "cell_type": "code",
      "source": [
        "print(np.all(b > 0))"
      ],
      "metadata": {
        "id": "oqoRv5qItYzq",
        "outputId": "f123ad77-1dec-435e-d600-5e54882c57c1",
        "colab": {
          "base_uri": "https://localhost:8080/"
        }
      },
      "execution_count": 45,
      "outputs": [
        {
          "output_type": "stream",
          "name": "stdout",
          "text": [
            "False\n"
          ]
        }
      ]
    },
    {
      "cell_type": "code",
      "source": [
        "print(b[b > 0])"
      ],
      "metadata": {
        "id": "NATn6MNMuJWO",
        "outputId": "f0084619-f785-4775-bc81-68037f160fe3",
        "colab": {
          "base_uri": "https://localhost:8080/"
        }
      },
      "execution_count": 46,
      "outputs": [
        {
          "output_type": "stream",
          "name": "stdout",
          "text": [
            "[1 2]\n"
          ]
        }
      ]
    },
    {
      "cell_type": "code",
      "source": [
        "print(b)\n",
        "print(c)\n",
        "print(b == c)"
      ],
      "metadata": {
        "id": "TZ2IAUoAuRAV",
        "outputId": "b883a990-5815-4198-8829-27c8a2ac2fbb",
        "colab": {
          "base_uri": "https://localhost:8080/"
        }
      },
      "execution_count": 47,
      "outputs": [
        {
          "output_type": "stream",
          "name": "stdout",
          "text": [
            "[[-3 -2 -1]\n",
            " [ 0  1  2]]\n",
            "[[1 2 3]\n",
            " [4 5 6]]\n",
            "[[False False False]\n",
            " [False False False]]\n"
          ]
        }
      ]
    },
    {
      "cell_type": "code",
      "source": [
        "print(a)\n",
        "print(b)\n",
        "print(a == b)"
      ],
      "metadata": {
        "id": "W_qb6z7NuaqY",
        "outputId": "2829e6e1-6a65-4476-ff7c-678d37645892",
        "colab": {
          "base_uri": "https://localhost:8080/"
        }
      },
      "execution_count": 48,
      "outputs": [
        {
          "output_type": "stream",
          "name": "stdout",
          "text": [
            "[0 1 2]\n",
            "[[-3 -2 -1]\n",
            " [ 0  1  2]]\n",
            "[[False False False]\n",
            " [ True  True  True]]\n"
          ]
        }
      ]
    },
    {
      "cell_type": "code",
      "source": [
        "print(a)\n",
        "print(b)\n",
        "print(c)\n",
        "print((b == c)|(a == b))"
      ],
      "metadata": {
        "id": "9xHtFcgqukX4",
        "outputId": "70dd5eaa-9770-4113-8c18-d1904533c2a0",
        "colab": {
          "base_uri": "https://localhost:8080/"
        }
      },
      "execution_count": 49,
      "outputs": [
        {
          "output_type": "stream",
          "name": "stdout",
          "text": [
            "[0 1 2]\n",
            "[[-3 -2 -1]\n",
            " [ 0  1  2]]\n",
            "[[1 2 3]\n",
            " [4 5 6]]\n",
            "[[False False False]\n",
            " [ True  True  True]]\n"
          ]
        }
      ]
    },
    {
      "cell_type": "code",
      "source": [
        "print(b[(b == c)|(a == b)])"
      ],
      "metadata": {
        "id": "ea2X215Euyub",
        "outputId": "5cdf0610-a5a4-4fdb-811d-6ffc84281f51",
        "colab": {
          "base_uri": "https://localhost:8080/"
        }
      },
      "execution_count": 50,
      "outputs": [
        {
          "output_type": "stream",
          "name": "stdout",
          "text": [
            "[0 1 2]\n"
          ]
        }
      ]
    },
    {
      "cell_type": "code",
      "source": [
        "print(np.allclose(b,c))"
      ],
      "metadata": {
        "id": "xImehsD_u6yE",
        "outputId": "5cc58a1c-32a3-47eb-93f1-7ca68b69fd83",
        "colab": {
          "base_uri": "https://localhost:8080/"
        }
      },
      "execution_count": 51,
      "outputs": [
        {
          "output_type": "stream",
          "name": "stdout",
          "text": [
            "False\n"
          ]
        }
      ]
    },
    {
      "cell_type": "code",
      "source": [
        "print(np.allclose(b,c,atol=10))"
      ],
      "metadata": {
        "id": "7tkUZWdLvDeI",
        "outputId": "c4a34f16-85d3-46de-c924-2221d868c185",
        "colab": {
          "base_uri": "https://localhost:8080/"
        }
      },
      "execution_count": 52,
      "outputs": [
        {
          "output_type": "stream",
          "name": "stdout",
          "text": [
            "True\n"
          ]
        }
      ]
    },
    {
      "cell_type": "markdown",
      "source": [
        "- 関数とメソッド"
      ],
      "metadata": {
        "id": "ymOL-jFsvM-z"
      }
    },
    {
      "cell_type": "code",
      "source": [
        "print(a)\n",
        "np.sum(a)"
      ],
      "metadata": {
        "id": "WEbhTkIrvR1o",
        "outputId": "4bddacc3-8bfe-47d8-f018-c7b9455990c4",
        "colab": {
          "base_uri": "https://localhost:8080/"
        }
      },
      "execution_count": 53,
      "outputs": [
        {
          "output_type": "stream",
          "name": "stdout",
          "text": [
            "[0 1 2]\n"
          ]
        },
        {
          "output_type": "execute_result",
          "data": {
            "text/plain": [
              "3"
            ]
          },
          "metadata": {},
          "execution_count": 53
        }
      ]
    },
    {
      "cell_type": "code",
      "source": [
        "print(a.sum())"
      ],
      "metadata": {
        "id": "PxxZU16QvYle",
        "outputId": "8903f92d-8375-460d-de8e-157f4a92d6e6",
        "colab": {
          "base_uri": "https://localhost:8080/"
        }
      },
      "execution_count": 54,
      "outputs": [
        {
          "output_type": "stream",
          "name": "stdout",
          "text": [
            "3\n"
          ]
        }
      ]
    }
  ]
}