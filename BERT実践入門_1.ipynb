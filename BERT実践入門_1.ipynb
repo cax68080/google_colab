{
  "nbformat": 4,
  "nbformat_minor": 0,
  "metadata": {
    "colab": {
      "provenance": [],
      "authorship_tag": "ABX9TyMv9fsBl8bNQjW+l6m86aMm",
      "include_colab_link": true
    },
    "kernelspec": {
      "name": "python3",
      "display_name": "Python 3"
    },
    "language_info": {
      "name": "python"
    }
  },
  "cells": [
    {
      "cell_type": "markdown",
      "metadata": {
        "id": "view-in-github",
        "colab_type": "text"
      },
      "source": [
        "<a href=\"https://colab.research.google.com/github/cax68080/google_colab/blob/main/BERT%E5%AE%9F%E8%B7%B5%E5%85%A5%E9%96%80_1.ipynb\" target=\"_parent\"><img src=\"https://colab.research.google.com/assets/colab-badge.svg\" alt=\"Open In Colab\"/></a>"
      ]
    },
    {
      "cell_type": "code",
      "execution_count": null,
      "metadata": {
        "id": "XTvWajcmcXQz"
      },
      "outputs": [],
      "source": [
        "!pip list\n"
      ]
    },
    {
      "cell_type": "code",
      "source": [
        "import torch\n",
        "\n",
        "a = torch.tensor([1,2,3])\n",
        "print(a,type(a))"
      ],
      "metadata": {
        "colab": {
          "base_uri": "https://localhost:8080/"
        },
        "id": "iw2VPzebp_mt",
        "outputId": "57c58115-b66e-4b82-b9db-48f17b346652"
      },
      "execution_count": 1,
      "outputs": [
        {
          "output_type": "stream",
          "name": "stdout",
          "text": [
            "tensor([1, 2, 3]) <class 'torch.Tensor'>\n"
          ]
        }
      ]
    },
    {
      "cell_type": "code",
      "source": [
        "print(\"---2次元のリストから生成---\")\n",
        "b = torch.tensor([[1,2],[3,4]])\n",
        "\n",
        "print(b)\n",
        "\n",
        "print(\"---dtypeを指定し、倍精度のTensorにする---\")\n",
        "c = torch.tensor([[1,2],[3,4]],dtype=torch.float64)\n",
        "\n",
        "print(c)\n",
        "\n",
        "print(\"---0から9までの数値で初期化---\")\n",
        "d = torch.arange(0,10)\n",
        "\n",
        "print(d)\n",
        "\n",
        "print(\"---すべての値が0の、２×３のTensor---\")\n",
        "e = torch.zeros(2,3)\n",
        "\n",
        "print(e)\n",
        "\n",
        "print(\"---すべての値が乱数の、２×３のTensor---\")\n",
        "f = torch.rand(2,3)\n",
        "\n",
        "print(f)\n",
        "\n",
        "print(\"---Tensorの形状はsizeメソッドで取得---\")\n",
        "print(f.size())\n"
      ],
      "metadata": {
        "id": "fsIAuDVdruld"
      },
      "execution_count": null,
      "outputs": []
    },
    {
      "cell_type": "code",
      "source": [
        "print(\"--- -5から5までの連続値を10生成 ---\")\n",
        "g = torch.linspace(-5,5,10)\n",
        "print(g)"
      ],
      "metadata": {
        "colab": {
          "base_uri": "https://localhost:8080/"
        },
        "id": "tS0lc-bMpF0N",
        "outputId": "809698d2-db82-4062-b262-dd0697ee5216"
      },
      "execution_count": 2,
      "outputs": [
        {
          "output_type": "stream",
          "name": "stdout",
          "text": [
            "--- -5から5までの連続値を10生成 ---\n",
            "tensor([-5.0000, -3.8889, -2.7778, -1.6667, -0.5556,  0.5556,  1.6667,  2.7778,\n",
            "         3.8889,  5.0000])\n"
          ]
        }
      ]
    },
    {
      "cell_type": "code",
      "source": [
        "print(\"---Tensor ⇒ Numpy ---\")\n",
        "a = torch.tensor([[1,2],[3,4]])\n",
        "b = a.numpy()\n",
        "print(b)\n",
        "\n",
        "print(\"---Numpy ⇒ Tensor---\")\n",
        "c = torch.from_numpy(b)\n",
        "print(c)"
      ],
      "metadata": {
        "id": "UvOtQJNG0sKn"
      },
      "execution_count": null,
      "outputs": []
    },
    {
      "cell_type": "code",
      "source": [],
      "metadata": {
        "id": "AQNqoXyh2BFC"
      },
      "execution_count": null,
      "outputs": []
    }
  ]
}